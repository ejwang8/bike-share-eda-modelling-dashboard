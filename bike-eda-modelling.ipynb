{
 "cells": [
  {
   "cell_type": "markdown",
   "id": "87df6b92",
   "metadata": {},
   "source": [
    "# Description and Goal"
   ]
  },
  {
   "cell_type": "markdown",
   "id": "f368138c",
   "metadata": {},
   "source": [
    "This project performs cleaning, EDA, and modelling to the BlueBikes bicycle sharing system data from January 2015 to June 2025 found [here](https://bluebikes.com/system-data)\n",
    "\n"
   ]
  },
  {
   "cell_type": "markdown",
   "id": "ee1794cb",
   "metadata": {},
   "source": [
    "| Column (From website)      |\n",
    "| ----------- |\n",
    "| Trip Duration (seconds) |\n",
    "| Start Time and Date |\n",
    "| Stop Time and Date |\n",
    "| Start Station Name & ID |\n",
    "| End Station Name & ID |\n",
    "| Bike ID |\n",
    "| User Type (Casual = Single Trip or Day Pass user; Member = Annual or Monthly Member) |\n",
    "\n",
    "\n",
    "\n",
    "\n",
    "\n",
    "\n",
    "\n"
   ]
  },
  {
   "cell_type": "markdown",
   "id": "aa06d968",
   "metadata": {},
   "source": [
    "# Load and Clean Data\n",
    "\n",
    "Step 1: Preprocessing (in Python/Pandas)\n",
    "\n",
    "Let's load data. Lots of files from the website that we need to standardize column names for and concatenate into one csv file?\n",
    "- Loop through CSVs, inspect column names, standardize them.\n",
    "- Concatenate all into one big DataFrame.\n",
    "- Clean data (e.g., fix datetime parsing, column types, missing values)."
   ]
  },
  {
   "cell_type": "code",
   "execution_count": null,
   "id": "5e6dfd2e",
   "metadata": {},
   "outputs": [],
   "source": [
    "import pandas as pd"
   ]
  },
  {
   "cell_type": "code",
   "execution_count": null,
   "id": "1ade6ab4",
   "metadata": {},
   "outputs": [],
   "source": [
    "start_path = \"/Users/ellawang/Documents/GitHub/bike_csv_files/\"\n",
    "old_end_path = \"-hubway-tripdata.csv\"\n",
    "new_end_path = \"-bluebikes-tripdata.csv\"\n",
    "yr_15 = [\"2015\" + str(i).zfill(2) + old_end_path for i in range(1, 13)]\n",
    "yr_16 = [\"2016\" + str(i).zfill(2) + old_end_path for i in range(1, 13)]\n",
    "yr_17 = [\"2017\" + str(i).zfill(2) + old_end_path for i in range(1, 13)]\n",
    "yr_18_1 = [\"2018\" + str(i).zfill(2) + old_end_path for i in range(1, 5)] \n",
    "    # note 1801-1803 i had to manually replace _ with - in the names\n",
    "    # after 1805 hubway-->bluebikes\n",
    "yr_18_2 = [\"2018\" + str(i).zfill(2) + new_end_path for i in range(5, 13)] \n",
    "yr_19 = [\"2019\" + str(i).zfill(2) + new_end_path for i in range(1, 13)]\n",
    "yr_20 = [\"2020\" + str(i).zfill(2) + new_end_path for i in range(1, 13)]\n",
    "yr_21 = [\"2021\" + str(i).zfill(2) + new_end_path for i in range(1, 13)]\n",
    "yr_22 = [\"2022\" + str(i).zfill(2) + new_end_path for i in range(1, 13)]\n",
    "yr_23 = [\"2023\" + str(i).zfill(2) + new_end_path for i in range(1, 13)]\n",
    "yr_24 = [\"2024\" + str(i).zfill(2) + new_end_path for i in range(1, 13)]\n",
    "yr_25 = [\"2025\" + str(i).zfill(2) + new_end_path for i in range(1, 7)]\n",
    "pathways = yr_15 + yr_16 + yr_17 + yr_18_1 + yr_18_2 + yr_19 + yr_20 + yr_21 + yr_22 + yr_23 + yr_24 + yr_25\n",
    "\n",
    "# condense this shii"
   ]
  },
  {
   "cell_type": "code",
   "execution_count": null,
   "id": "c2fa6ef5",
   "metadata": {},
   "outputs": [],
   "source": [
    "# # give us a peak into the columns and formats/datatypes of each file\n",
    "# num_total_rows = 0\n",
    "# col_count = {}\n",
    "# for path in pathways:\n",
    "#     df = pd.read_csv(start_path + path)\n",
    "#     print(f'{path}: {df.columns} : {df.shape[0]} rows')\n",
    "#     num_total_rows += df.shape[0]\n",
    "#     print(df.iloc[0])\n",
    "#     for col in df.columns:\n",
    "#         if col not in col_count:\n",
    "#             col_count[col] = 0\n",
    "#         col_count[col] += 1\n",
    "\n",
    "# print(col_count)\n",
    "# print(f'Num total rows: {num_total_rows}')\n",
    "\n",
    "# # saved to \"output.txt\" so don't have to re-run"
   ]
  },
  {
   "cell_type": "markdown",
   "id": "510fd96b",
   "metadata": {},
   "source": [
    "We see inconsistent naming conventions. investigated into output of the print statements printing one line from each file to see which columns are the same and of those which are reformatted and also which columns like dropped before or after a certain point"
   ]
  },
  {
   "cell_type": "markdown",
   "id": "3f8e1425",
   "metadata": {},
   "source": [
    "Column names in 99 files (201501 until 202303 (including final yr/mo))\n",
    "- 'tripduration': 99 (ends in 202303) (e.g. 1105) -- DROPPING tentatively?\n",
    "- 'bikeid': 99, (ends in 202304) (e.g. 6680) -- DROPPING tentatively?\n",
    "- 'starttime': 99 (turns into started_at beg. 202304) (e.g. 2023-03-01 00:00:44.1520 --> 2023-04-13 13:49:59)\n",
    "- 'stoptime': 99 (turns into ended_at beg. 202304)\n",
    "- 'start station id': 99 (turns into start_station_id beg. 202304) (e.g. 386 --> A32011)\n",
    "- 'start station name': 99, (turns into start_station_name beg. 202304) (e.g. Central Square at Mass Ave / Essex St --> seems to stay same!)\n",
    "- start station latitude': 99, (turns into start_lat beg. 202304) (e.g. 42.368605 --> 42.363713 stays the same!)\n",
    "- 'start station longitude': 99, (turns into start_lng beg. 202304) (same)\n",
    "- 'end station id': 99, (turns into end_station_id beg. 202304) (e.g. 386 --> A32011 aka same)\n",
    "- 'end station name': 99, (turns into end_station_name beg. 202304) (same)\n",
    "- 'end station latitude': 99, (turns into end_lat beg. 202304) (same)\n",
    "- 'end station longitude': 99, (turns into end_lng beg. 202304) (same)\n",
    "- 'usertype': 99(turns into member_casual beg. 202304) (e.g. Customer or Subscriber --> member or casual)\n",
    "\n",
    "Column names in 64 files (201501 until 202004)\n",
    "- 'birth year': 64 (e.g. 1984) -- DROPPING\n",
    "- 'gender': 64 (e.g. 0 or 1 or 2) -- DROPPING\n",
    "\n",
    "Column names in 35 files (202005 until 202303)\n",
    "- 'postal code': 35 (e.g. 02118 or NaN) -- DROPPING\n",
    "\n",
    "Column names in 27 files (202304 to 202506)\n",
    "- 'ride_id': 27 (begins 202304) (e.g. 0093AA5E7E3E0158) -- DROPPING\n",
    "- 'rideable_type': 27, (begins 202304) (e.g. docked_bike or classic_bike or electric_bike) -- DROPPING tentatively?"
   ]
  },
  {
   "cell_type": "markdown",
   "id": "87965c4e",
   "metadata": {},
   "source": [
    "dropping columns: I will delete **birth year, gender, postal code** since those are present in only half or fewer of the rows and not the most imformative. I will drop **ride_id** since not informative and just distinguishes rides from each other, **bikeid** because I don't care too much about particular bike (not sure about htis assumption hm), dropping **tripduration** bc that can be deduced from starttime and endtime (i'll engineer a new col after this). \n",
    "\n",
    "also will drop **start station id** and **end station id** bc the format changes halfway and redundant with start and end station name\n",
    "\n",
    "for now, i will drop **rideable type** bc it's only in 27 rows... however this is a meaningful var to predict other things so will do more research (maybe bluebikes only started offering e bikes a certain year and prior to that there was only classic bike... also idk the diff between classic and docked bike lol so will look into that later but for now drop?)"
   ]
  },
  {
   "cell_type": "markdown",
   "id": "2dc5deb2",
   "metadata": {},
   "source": [
    "(might need to rewrite/move) then i'll rename columns, standardize formatting, and visualize with EDA as well as missing values before i decide how to go about filling in missing values"
   ]
  },
  {
   "cell_type": "code",
   "execution_count": null,
   "id": "45b66dda",
   "metadata": {},
   "outputs": [],
   "source": [
    "# this takes 1 min 15 sec to run ish\n",
    "\n",
    "# drop those columns - \n",
    "def load_and_clean_csv(filepath):\n",
    "    \n",
    "    # read_csv\n",
    "    df = pd.read_csv(filepath)\n",
    "    \n",
    "    # rename cols as needed pass in dict\n",
    "    renames = {\n",
    "        'starttime': 'started_at',\n",
    "        'stoptime': 'ended_at',\n",
    "        'start station id': 'start_station_id',\n",
    "        'start station name': 'start_station_name',\n",
    "        'start station latitude': 'start_lat',\n",
    "        'start station longitude': 'start_lng',\n",
    "        'end station id': 'end_station_id',\n",
    "        'end station name': 'end_station_name',\n",
    "        'end station latitude': 'end_lat',\n",
    "        'end station longitude': 'end_lng',\n",
    "        'usertype' : 'member_casual'\n",
    "    }\n",
    "    \n",
    "    df.rename(columns = renames, inplace=True)\n",
    "    \n",
    "    \n",
    "    # get a subset of columns wanted\n",
    "    keep_columns = ['started_at', 'ended_at', 'start_station_name',\n",
    "       'start_station_id', 'start_lat', 'start_lng', 'end_station_id',\n",
    "       'end_station_name', 'end_lat', 'end_lng', 'member_casual']\n",
    "    \n",
    "    df = df[keep_columns]\n",
    "    \n",
    "    return df\n",
    "    \n",
    "    # for path in pathways:\n",
    "    #     df = pd.read_csv(start_path + path)\n",
    "    #     print(f'{path}: {df.columns} : {df.shape[0]} rows')\n",
    "    #     num_total_rows += df.shape[0]\n",
    "    #     print(df.iloc[0])\n",
    "    #     for col in df.columns:\n",
    "    #         if col not in col_count:\n",
    "    #             col_count[col] = 0\n",
    "    #         col_count[col] += 1\n",
    "\n",
    "    # print(col_count)\n",
    "    # print(f'Num total rows: {num_total_rows}')\n",
    "    # return df\n",
    "\n",
    "# get list of all pathways (this is pathways from prev code cell)\n",
    "\n",
    "# # get list of dataframes\n",
    "dfs_list = [load_and_clean_csv(start_path + pathway) for pathway in pathways]\n",
    "\n",
    "# # concat and get a list of that funciton applied to each pathways\n",
    "original_df = pd.concat(dfs_list, ignore_index=True)"
   ]
  },
  {
   "cell_type": "code",
   "execution_count": null,
   "id": "c4336f74",
   "metadata": {},
   "outputs": [],
   "source": [
    "big_df = original_df.copy()\n",
    "big_df"
   ]
  },
  {
   "cell_type": "markdown",
   "id": "8160f15a",
   "metadata": {},
   "source": [
    "### gotta fix the datetime for started_at and ended_at, which are diff formats before and after certain index\n",
    "\n",
    "**2023-03-01 00:00:44.1520** --> **2023-04-13 13:49:59** beginning 202304\n",
    "\n",
    "- 'start station id': 99 (turns into start_station_id beg. 202304) (e.g. 386 --> A32011)\n",
    "- 'start station name': 99, (turns into start_station_name beg. 202304) (e.g. Central Square at Mass Ave / Essex St --> seems to stay same!)\n",
    "- start station latitude': 99, (turns into start_lat beg. 202304) (e.g. 42.368605 --> 42.363713 stays the same!)\n",
    "- 'start station longitude': 99, (turns into start_lng beg. 202304) (same)\n",
    "- 'end station id': 99, (turns into end_station_id beg. 202304) (e.g. 386 --> A32011 aka same)\n",
    "- 'end station name': 99, (turns into end_station_name beg. 202304) (same)\n",
    "- 'end station latitude': 99, (turns into end_lat beg. 202304) (same)\n",
    "- 'end station longitude': 99, (turns into end_lng beg. 202304) (same)\n",
    "- 'usertype': 99(turns into member_casual beg. 202304) (e.g. Customer or Subscriber --> member or casual)"
   ]
  },
  {
   "cell_type": "code",
   "execution_count": null,
   "id": "84b825e0",
   "metadata": {},
   "outputs": [],
   "source": [
    "big_df.info()"
   ]
  },
  {
   "cell_type": "markdown",
   "id": "c9b0aaa3",
   "metadata": {},
   "source": [
    "need to convert end_lat and end_long to floats"
   ]
  },
  {
   "cell_type": "code",
   "execution_count": null,
   "id": "0f1cbcc8",
   "metadata": {},
   "outputs": [],
   "source": [
    "# ValueError: could not convert string to float: '\\\\N'\n",
    "import numpy as np\n",
    "big_df.replace('\\\\N', np.nan, inplace=True)"
   ]
  },
  {
   "cell_type": "code",
   "execution_count": null,
   "id": "c7b052ad",
   "metadata": {},
   "outputs": [],
   "source": [
    "big_df['end_lat'] = big_df['end_lat'].astype(float)\n",
    "big_df['end_lng'] = big_df['end_lng'].astype(float)"
   ]
  },
  {
   "cell_type": "code",
   "execution_count": 202,
   "id": "ab3b5b9d",
   "metadata": {},
   "outputs": [
    {
     "name": "stdout",
     "output_type": "stream",
     "text": [
      "<class 'pandas.core.frame.DataFrame'>\n",
      "RangeIndex: 27065610 entries, 0 to 27065609\n",
      "Data columns (total 11 columns):\n",
      " #   Column              Dtype         \n",
      "---  ------              -----         \n",
      " 0   started_at          datetime64[ns]\n",
      " 1   ended_at            datetime64[ns]\n",
      " 2   start_station_name  object        \n",
      " 3   start_station_id    object        \n",
      " 4   start_lat           float64       \n",
      " 5   start_lng           float64       \n",
      " 6   end_station_id      object        \n",
      " 7   end_station_name    object        \n",
      " 8   end_lat             float64       \n",
      " 9   end_lng             float64       \n",
      " 10  member_casual       object        \n",
      "dtypes: datetime64[ns](2), float64(4), object(5)\n",
      "memory usage: 2.2+ GB\n"
     ]
    }
   ],
   "source": [
    "big_df.info()"
   ]
  },
  {
   "cell_type": "markdown",
   "id": "030f301c",
   "metadata": {},
   "source": [
    "good!"
   ]
  },
  {
   "cell_type": "code",
   "execution_count": null,
   "id": "7046e52d",
   "metadata": {},
   "outputs": [],
   "source": [
    "big_df.describe()"
   ]
  },
  {
   "cell_type": "code",
   "execution_count": null,
   "id": "7555f8c9",
   "metadata": {},
   "outputs": [],
   "source": [
    "big_df.isna().sum()"
   ]
  },
  {
   "cell_type": "code",
   "execution_count": null,
   "id": "adf5949f",
   "metadata": {},
   "outputs": [],
   "source": [
    "# takes like 40 seconds to run\n",
    "\n",
    "# view rows with at least one NaN value\n",
    "big_df[big_df.isna().any(axis=1)]\n",
    "\n",
    "# notice a lot of these bike rides lasted over a day ... maybe they were abandoned/lost/stolen/data entry error/broken dock so will drop probably\n",
    "# to test let's engineer a new trip_duration feature from started_at and ended_at"
   ]
  },
  {
   "cell_type": "code",
   "execution_count": null,
   "id": "b244c77d",
   "metadata": {},
   "outputs": [],
   "source": [
    "# big_df[big_df.isna().any(axis=1)].index"
   ]
  },
  {
   "cell_type": "code",
   "execution_count": null,
   "id": "fe30ecfe",
   "metadata": {},
   "outputs": [],
   "source": [
    "# takes like 22 seconds to run\n",
    "\n",
    "null_indices = big_df[big_df.isna().any(axis=1)].index.tolist()"
   ]
  },
  {
   "cell_type": "code",
   "execution_count": null,
   "id": "c4fbcd34",
   "metadata": {},
   "outputs": [],
   "source": [
    "null_indices[0:5]"
   ]
  },
  {
   "cell_type": "code",
   "execution_count": null,
   "id": "ddfae36f",
   "metadata": {},
   "outputs": [],
   "source": [
    "test_rows = big_df.iloc[:2]\n",
    "test_rows"
   ]
  },
  {
   "cell_type": "code",
   "execution_count": null,
   "id": "e5fd3d73",
   "metadata": {},
   "outputs": [],
   "source": [
    "type(test_rows.iloc[0]['started_at'])"
   ]
  },
  {
   "cell_type": "code",
   "execution_count": null,
   "id": "a8d67c4d",
   "metadata": {},
   "outputs": [],
   "source": [
    "# cast string to datetime\n",
    "pd.to_datetime(test_rows.iloc[0]['started_at'])\n"
   ]
  },
  {
   "cell_type": "code",
   "execution_count": null,
   "id": "e7c6dfe9",
   "metadata": {},
   "outputs": [],
   "source": [
    "# 2023-03-01 00:00:44.1520** --> **2023-04-13 13:49:59** beginning 202304\n",
    "\n",
    "# casting started_at and ended_at as datetime\n",
    "\n",
    "# apply to columns\n",
    "big_df['started_at'] = pd.to_datetime(big_df['started_at'])\n",
    "big_df['ended_at'] = pd.to_datetime(big_df['ended_at'])"
   ]
  },
  {
   "cell_type": "code",
   "execution_count": null,
   "id": "0f291bf6",
   "metadata": {},
   "outputs": [],
   "source": [
    "# engineer new duration column\n",
    "big_df['duration'] = big_df['ended_at'] - big_df['started_at']\n",
    "big_df.head()"
   ]
  },
  {
   "cell_type": "code",
   "execution_count": null,
   "id": "e9eb5171",
   "metadata": {},
   "outputs": [],
   "source": [
    "big_df.info()"
   ]
  },
  {
   "cell_type": "markdown",
   "id": "b6aaf87d",
   "metadata": {},
   "source": [
    "good!"
   ]
  },
  {
   "cell_type": "code",
   "execution_count": null,
   "id": "9284d2e2",
   "metadata": {},
   "outputs": [],
   "source": [
    "big_df.iloc[0:2]"
   ]
  },
  {
   "cell_type": "code",
   "execution_count": null,
   "id": "dea39553",
   "metadata": {},
   "outputs": [],
   "source": [
    "big_df.iloc[-2:]"
   ]
  },
  {
   "cell_type": "markdown",
   "id": "894eefeb",
   "metadata": {},
   "source": [
    "now need to deal with station name and ids columns..."
   ]
  },
  {
   "cell_type": "code",
   "execution_count": 190,
   "id": "1eb8a8af",
   "metadata": {},
   "outputs": [
    {
     "data": {
      "text/plain": [
       "MIT at Mass Ave / Amherst St                       609332\n",
       "Central Square at Mass Ave / Essex St              470967\n",
       "Harvard Square at Mass Ave/ Dunster                389056\n",
       "MIT Pacific St at Purrington St                    311547\n",
       "MIT Stata Center at Vassar St / Main St            310863\n",
       "                                                    ...  \n",
       "MTL-ECO4-01                                             1\n",
       "Meaney Playground - Pleasant st at E Cottage St         1\n",
       "Swan Pl. at Minuteman Bikeway                           1\n",
       "Medford St. at Warren St.                               1\n",
       "Jamaicaway at Perkins St                                1\n",
       "Name: start_station_name, Length: 831, dtype: int64"
      ]
     },
     "execution_count": 190,
     "metadata": {},
     "output_type": "execute_result"
    }
   ],
   "source": [
    "big_df['start_station_name'].value_counts()"
   ]
  },
  {
   "cell_type": "code",
   "execution_count": 191,
   "id": "a2cc99b1",
   "metadata": {},
   "outputs": [
    {
     "data": {
      "text/plain": [
       "MIT at Mass Ave / Amherst St               597449\n",
       "Central Square at Mass Ave / Essex St      471718\n",
       "Harvard Square at Mass Ave/ Dunster        401820\n",
       "Ames St at Main St                         339129\n",
       "MIT Stata Center at Vassar St / Main St    326066\n",
       "                                            ...  \n",
       "Swan Pl. at Minuteman Bikeway                   1\n",
       "Warehouse Lab PBSC                              1\n",
       "Lab PBSC                                        1\n",
       "Mobile Temporary Station 1                      1\n",
       "Jamaicaway at Perkins St                        1\n",
       "Name: end_station_name, Length: 832, dtype: int64"
      ]
     },
     "execution_count": 191,
     "metadata": {},
     "output_type": "execute_result"
    }
   ],
   "source": [
    "big_df['end_station_name'].value_counts()"
   ]
  },
  {
   "cell_type": "code",
   "execution_count": 192,
   "id": "8cc9b0df",
   "metadata": {},
   "outputs": [
    {
     "data": {
      "text/plain": [
       "67        419951\n",
       "68        324437\n",
       "74        257707\n",
       "80        235133\n",
       "22        228985\n",
       "           ...  \n",
       "158            3\n",
       "230            3\n",
       "E32002         1\n",
       "382            1\n",
       "383            1\n",
       "Name: start_station_id, Length: 1103, dtype: int64"
      ]
     },
     "execution_count": 192,
     "metadata": {},
     "output_type": "execute_result"
    }
   ],
   "source": [
    "big_df['start_station_id'].value_counts()"
   ]
  },
  {
   "cell_type": "code",
   "execution_count": 193,
   "id": "0a9cdc45",
   "metadata": {},
   "outputs": [
    {
     "data": {
      "text/plain": [
       "67        409623\n",
       "68        324755\n",
       "74        266312\n",
       "80        252025\n",
       "107       229632\n",
       "           ...  \n",
       "229            5\n",
       "153            3\n",
       "158            3\n",
       "382            2\n",
       "E32002         1\n",
       "Name: end_station_id, Length: 1135, dtype: int64"
      ]
     },
     "execution_count": 193,
     "metadata": {},
     "output_type": "execute_result"
    }
   ],
   "source": [
    "big_df['end_station_id'].value_counts()"
   ]
  },
  {
   "cell_type": "markdown",
   "id": "3ed3e026",
   "metadata": {},
   "source": [
    "ick. there's an uneven number of start vs. end station names and ids... and the number of names and ids do not match... let's look into other files included which give like metadata i think! or like data about stations and our map essentially"
   ]
  },
  {
   "cell_type": "code",
   "execution_count": null,
   "id": "e8e8e5d4",
   "metadata": {},
   "outputs": [],
   "source": [
    "stations_df = pd.read_csv('/Users/ellawang/Documents/GitHub/bike_etc_files/current_bluebikes_stations.csv')\n",
    "stations_df"
   ]
  },
  {
   "cell_type": "code",
   "execution_count": 256,
   "id": "5c746ad3",
   "metadata": {},
   "outputs": [],
   "source": [
    "relative_path = '/Users/ellawang/Documents/GitHub/bike_etc_files/'\n",
    "trip_start = 'hubway_Trips_20'\n",
    "\n",
    "hubway_stations_2011_2016 = relative_path + 'Hubway_Stations_2011_2016.csv'\n",
    "hubway_stations_2017 = relative_path + 'Hubway_Stations_as_of_July_2017.csv'\n",
    "trips_2011 = relative_path + trip_start + '11.csv'\n",
    "trips_2012 = relative_path + trip_start + '12.csv'\n",
    "trips_2013 = relative_path + trip_start + '13.csv'\n",
    "trips_2014_1 = relative_path + trip_start + '14_1.csv'\n",
    "trips_2014_2 = relative_path + trip_start + '14_2.csv'\n",
    "previous_hubway_stations_2017 = relative_path + 'previous_Hubway_Stations_as_of_July_2017.csv'\n",
    "\n",
    "pre_2015_paths = [trips_2011, trips_2012, trips_2013, trips_2014_1, trips_2014_2]"
   ]
  },
  {
   "cell_type": "code",
   "execution_count": 187,
   "id": "60078e64",
   "metadata": {},
   "outputs": [
    {
     "data": {
      "text/html": [
       "<div>\n",
       "<style scoped>\n",
       "    .dataframe tbody tr th:only-of-type {\n",
       "        vertical-align: middle;\n",
       "    }\n",
       "\n",
       "    .dataframe tbody tr th {\n",
       "        vertical-align: top;\n",
       "    }\n",
       "\n",
       "    .dataframe thead th {\n",
       "        text-align: right;\n",
       "    }\n",
       "</style>\n",
       "<table border=\"1\" class=\"dataframe\">\n",
       "  <thead>\n",
       "    <tr style=\"text-align: right;\">\n",
       "      <th></th>\n",
       "      <th>Station</th>\n",
       "      <th>Station ID</th>\n",
       "      <th>Latitude</th>\n",
       "      <th>Longitude</th>\n",
       "      <th>Municipality</th>\n",
       "      <th># of Docks</th>\n",
       "    </tr>\n",
       "  </thead>\n",
       "  <tbody>\n",
       "    <tr>\n",
       "      <th>0</th>\n",
       "      <td>Fan Pier</td>\n",
       "      <td>A32000</td>\n",
       "      <td>42.353287</td>\n",
       "      <td>-71.044389</td>\n",
       "      <td>Boston</td>\n",
       "      <td>15</td>\n",
       "    </tr>\n",
       "    <tr>\n",
       "      <th>1</th>\n",
       "      <td>Union Square - Brighton Ave. at Cambridge St.</td>\n",
       "      <td>A32001</td>\n",
       "      <td>42.353334</td>\n",
       "      <td>-71.137313</td>\n",
       "      <td>Boston</td>\n",
       "      <td>15</td>\n",
       "    </tr>\n",
       "    <tr>\n",
       "      <th>2</th>\n",
       "      <td>Agganis Arena - 925 Comm Ave.</td>\n",
       "      <td>A32002</td>\n",
       "      <td>42.351246</td>\n",
       "      <td>-71.115639</td>\n",
       "      <td>Boston</td>\n",
       "      <td>19</td>\n",
       "    </tr>\n",
       "    <tr>\n",
       "      <th>3</th>\n",
       "      <td>B.U. Central - 725 Comm. Ave.</td>\n",
       "      <td>A32003</td>\n",
       "      <td>42.350406</td>\n",
       "      <td>-71.108279</td>\n",
       "      <td>Boston</td>\n",
       "      <td>11</td>\n",
       "    </tr>\n",
       "    <tr>\n",
       "      <th>4</th>\n",
       "      <td>Longwood Ave / Binney St</td>\n",
       "      <td>A32004</td>\n",
       "      <td>42.338629</td>\n",
       "      <td>-71.106500</td>\n",
       "      <td>Boston</td>\n",
       "      <td>15</td>\n",
       "    </tr>\n",
       "    <tr>\n",
       "      <th>...</th>\n",
       "      <td>...</td>\n",
       "      <td>...</td>\n",
       "      <td>...</td>\n",
       "      <td>...</td>\n",
       "      <td>...</td>\n",
       "      <td>...</td>\n",
       "    </tr>\n",
       "    <tr>\n",
       "      <th>182</th>\n",
       "      <td>Packard Ave / Powderhouse Blvd</td>\n",
       "      <td>S32009</td>\n",
       "      <td>42.404490</td>\n",
       "      <td>-71.123413</td>\n",
       "      <td>Somerville</td>\n",
       "      <td>15</td>\n",
       "    </tr>\n",
       "    <tr>\n",
       "      <th>183</th>\n",
       "      <td>Somerville Hospital at Highland Ave / Crocker St</td>\n",
       "      <td>S32010</td>\n",
       "      <td>42.390820</td>\n",
       "      <td>-71.109420</td>\n",
       "      <td>Somerville</td>\n",
       "      <td>15</td>\n",
       "    </tr>\n",
       "    <tr>\n",
       "      <th>184</th>\n",
       "      <td>Teele Square at 239 Holland St</td>\n",
       "      <td>S32011</td>\n",
       "      <td>42.402763</td>\n",
       "      <td>-71.126908</td>\n",
       "      <td>Somerville</td>\n",
       "      <td>15</td>\n",
       "    </tr>\n",
       "    <tr>\n",
       "      <th>185</th>\n",
       "      <td>Magoun Square at Trum Field</td>\n",
       "      <td>S32013</td>\n",
       "      <td>42.398365</td>\n",
       "      <td>-71.107818</td>\n",
       "      <td>Somerville</td>\n",
       "      <td>15</td>\n",
       "    </tr>\n",
       "    <tr>\n",
       "      <th>186</th>\n",
       "      <td>Broadway St at Mt Pleasant St</td>\n",
       "      <td>S32014</td>\n",
       "      <td>42.386141</td>\n",
       "      <td>-71.078281</td>\n",
       "      <td>Somerville</td>\n",
       "      <td>15</td>\n",
       "    </tr>\n",
       "  </tbody>\n",
       "</table>\n",
       "<p>187 rows × 6 columns</p>\n",
       "</div>"
      ],
      "text/plain": [
       "                                              Station Station ID   Latitude  \\\n",
       "0                                            Fan Pier     A32000  42.353287   \n",
       "1       Union Square - Brighton Ave. at Cambridge St.     A32001  42.353334   \n",
       "2                       Agganis Arena - 925 Comm Ave.     A32002  42.351246   \n",
       "3                       B.U. Central - 725 Comm. Ave.     A32003  42.350406   \n",
       "4                            Longwood Ave / Binney St     A32004  42.338629   \n",
       "..                                                ...        ...        ...   \n",
       "182                    Packard Ave / Powderhouse Blvd     S32009  42.404490   \n",
       "183  Somerville Hospital at Highland Ave / Crocker St     S32010  42.390820   \n",
       "184                    Teele Square at 239 Holland St     S32011  42.402763   \n",
       "185                       Magoun Square at Trum Field     S32013  42.398365   \n",
       "186                     Broadway St at Mt Pleasant St     S32014  42.386141   \n",
       "\n",
       "     Longitude Municipality  # of Docks  \n",
       "0   -71.044389       Boston          15  \n",
       "1   -71.137313       Boston          15  \n",
       "2   -71.115639       Boston          19  \n",
       "3   -71.108279       Boston          11  \n",
       "4   -71.106500       Boston          15  \n",
       "..         ...          ...         ...  \n",
       "182 -71.123413   Somerville          15  \n",
       "183 -71.109420   Somerville          15  \n",
       "184 -71.126908   Somerville          15  \n",
       "185 -71.107818   Somerville          15  \n",
       "186 -71.078281   Somerville          15  \n",
       "\n",
       "[187 rows x 6 columns]"
      ]
     },
     "execution_count": 187,
     "metadata": {},
     "output_type": "execute_result"
    }
   ],
   "source": [
    "hubway_stations_2011_2016_df = pd.read_csv(hubway_stations_2011_2016)\n",
    "hubway_stations_2011_2016_df # 187"
   ]
  },
  {
   "cell_type": "code",
   "execution_count": 189,
   "id": "3aa28a2e",
   "metadata": {},
   "outputs": [
    {
     "name": "stdout",
     "output_type": "stream",
     "text": [
      "<class 'pandas.core.frame.DataFrame'>\n",
      "RangeIndex: 330 entries, 0 to 329\n",
      "Data columns (total 7 columns):\n",
      " #   Column       Non-Null Count  Dtype  \n",
      "---  ------       --------------  -----  \n",
      " 0   Number       330 non-null    object \n",
      " 1   Name         330 non-null    object \n",
      " 2   Latitude     330 non-null    float64\n",
      " 3   Longitude    330 non-null    float64\n",
      " 4   District     330 non-null    object \n",
      " 5   Public       330 non-null    object \n",
      " 6   Total docks  330 non-null    int64  \n",
      "dtypes: float64(2), int64(1), object(4)\n",
      "memory usage: 18.2+ KB\n"
     ]
    }
   ],
   "source": [
    "hubway_stations_2017_df = pd.read_csv(hubway_stations_2017)\n",
    "hubway_stations_2017_df.info() # 330"
   ]
  },
  {
   "cell_type": "code",
   "execution_count": 196,
   "id": "c437f8eb",
   "metadata": {},
   "outputs": [
    {
     "name": "stdout",
     "output_type": "stream",
     "text": [
      "Index(['Duration', 'Start date', 'End date', 'Start station number',\n",
      "       'Start station name', 'End station number', 'End station name',\n",
      "       'Bike number', 'Member type', 'Zip code', 'Gender'],\n",
      "      dtype='object')\n"
     ]
    },
    {
     "name": "stderr",
     "output_type": "stream",
     "text": [
      "/var/folders/2d/lf9lppb564bfjnr36gbpwvz00000gn/T/ipykernel_98569/562385137.py:1: DtypeWarning: Columns (9) have mixed types. Specify dtype option on import or set low_memory=False.\n",
      "  hubway_trips_2011_df = pd.read_csv(hubway_trips_2011)\n"
     ]
    },
    {
     "data": {
      "text/plain": [
       "Duration                                                 1712320\n",
       "Start date                                      11/30/2011 23:58\n",
       "End date                                          12/1/2011 0:26\n",
       "Start station number                                      D32005\n",
       "Start station name      Boston Public Library - 700 Boylston St.\n",
       "End station number                                        D32011\n",
       "End station name                       Stuart St. at Charles St.\n",
       "Bike number                                               B00056\n",
       "Member type                                               Member\n",
       "Zip code                                                    2116\n",
       "Gender                                                      Male\n",
       "Name: 0, dtype: object"
      ]
     },
     "execution_count": 196,
     "metadata": {},
     "output_type": "execute_result"
    }
   ],
   "source": [
    "trips_2011_df = pd.read_csv(trips_2011)\n",
    "print(trips_2011_df.columns) #140,974\n",
    "trips_2011_df.iloc[0]"
   ]
  },
  {
   "cell_type": "code",
   "execution_count": 197,
   "id": "cc05638d",
   "metadata": {},
   "outputs": [
    {
     "name": "stdout",
     "output_type": "stream",
     "text": [
      "Index(['Duration', 'Start date', 'End date', 'Start station number',\n",
      "       'Start station name', 'End station number', 'End station name',\n",
      "       'Bike number', 'Member type', 'Zip code', 'Gender'],\n",
      "      dtype='object')\n"
     ]
    },
    {
     "data": {
      "text/plain": [
       "Duration                                  1633357\n",
       "Start date                       11/28/2012 23:58\n",
       "End date                          11/29/2012 0:25\n",
       "Start station number                       B32005\n",
       "Start station name        Christian Science Plaza\n",
       "End station number                         D32011\n",
       "End station name        Stuart St. at Charles St.\n",
       "Bike number                                T01350\n",
       "Member type                                Member\n",
       "Zip code                                     2116\n",
       "Gender                                       Male\n",
       "Name: 0, dtype: object"
      ]
     },
     "execution_count": 197,
     "metadata": {},
     "output_type": "execute_result"
    }
   ],
   "source": [
    "trips_2012_df = pd.read_csv(trips_2012)\n",
    "print(trips_2012_df.columns) # 530,374\n",
    "trips_2012_df.iloc[0]"
   ]
  },
  {
   "cell_type": "code",
   "execution_count": 198,
   "id": "d36df182",
   "metadata": {},
   "outputs": [
    {
     "name": "stdout",
     "output_type": "stream",
     "text": [
      "Index(['Duration', 'Start date', 'End date', 'Start station number',\n",
      "       'Start station name', 'End station number', 'End station name',\n",
      "       'Bike number', 'Member type', 'Zip code', 'Gender'],\n",
      "      dtype='object')\n"
     ]
    },
    {
     "name": "stderr",
     "output_type": "stream",
     "text": [
      "/var/folders/2d/lf9lppb564bfjnr36gbpwvz00000gn/T/ipykernel_98569/1171236407.py:1: DtypeWarning: Columns (9) have mixed types. Specify dtype option on import or set low_memory=False.\n",
      "  hubway_trips_2013_df = pd.read_csv(hubway_trips_2013)\n"
     ]
    },
    {
     "data": {
      "text/plain": [
       "Duration                                                          249396\n",
       "Start date                                              12/31/2013 23:25\n",
       "End date                                                12/31/2013 23:29\n",
       "Start station number                                              M32037\n",
       "Start station name                                    Ames St at Main St\n",
       "End station number                                                M32002\n",
       "End station name        One Kendall Square at Hampshire St / Portland St\n",
       "Bike number                                                       T01163\n",
       "Member type                                                       Member\n",
       "Zip code                                                            2141\n",
       "Gender                                                            Female\n",
       "Name: 0, dtype: object"
      ]
     },
     "execution_count": 198,
     "metadata": {},
     "output_type": "execute_result"
    }
   ],
   "source": [
    "trips_2013_df = pd.read_csv(trips_2013)\n",
    "print(trips_2013_df.columns) # 906,876\n",
    "trips_2013_df.iloc[0]"
   ]
  },
  {
   "cell_type": "code",
   "execution_count": 199,
   "id": "33eda56d",
   "metadata": {},
   "outputs": [
    {
     "name": "stdout",
     "output_type": "stream",
     "text": [
      "Index(['Duration', 'Start date', 'End date', 'Start station number',\n",
      "       'Start station name', 'End station number', 'End station name',\n",
      "       'Bike number', 'Member type', 'Zip code', 'Gender'],\n",
      "      dtype='object')\n"
     ]
    },
    {
     "name": "stderr",
     "output_type": "stream",
     "text": [
      "/var/folders/2d/lf9lppb564bfjnr36gbpwvz00000gn/T/ipykernel_98569/2425993394.py:1: DtypeWarning: Columns (9) have mixed types. Specify dtype option on import or set low_memory=False.\n",
      "  hubway_trips_2014_1_df = pd.read_csv(hubway_trips_2014_1)\n"
     ]
    },
    {
     "data": {
      "text/plain": [
       "Duration                                                       483653\n",
       "Start date                                            6/30/2014 20:06\n",
       "End date                                              6/30/2014 20:14\n",
       "Start station number                                           M32026\n",
       "Start station name          359 Broadway - Broadway at Fayette Street\n",
       "End station number                                             M32010\n",
       "End station name        Inman Square at Vellucci Plaza / Hampshire St\n",
       "Bike number                                                    B00082\n",
       "Member type                                                    Member\n",
       "Zip code                                                         2139\n",
       "Gender                                                           Male\n",
       "Name: 0, dtype: object"
      ]
     },
     "execution_count": 199,
     "metadata": {},
     "output_type": "execute_result"
    }
   ],
   "source": [
    "trips_2014_1_df = pd.read_csv(trips_2014_1)\n",
    "print(trips_2014_1_df.columns) # 417,473\n",
    "trips_2014_1_df.iloc[0]"
   ]
  },
  {
   "cell_type": "code",
   "execution_count": 200,
   "id": "bbd39ca5",
   "metadata": {},
   "outputs": [
    {
     "name": "stdout",
     "output_type": "stream",
     "text": [
      "Index(['Duration', 'Start date', 'End date', 'Start station number',\n",
      "       'Start station name', 'End station number', 'End station name',\n",
      "       'Bike number', 'Member type', 'Zip code', 'Gender'],\n",
      "      dtype='object')\n"
     ]
    },
    {
     "name": "stderr",
     "output_type": "stream",
     "text": [
      "/var/folders/2d/lf9lppb564bfjnr36gbpwvz00000gn/T/ipykernel_98569/3455016750.py:1: DtypeWarning: Columns (9) have mixed types. Specify dtype option on import or set low_memory=False.\n",
      "  hubway_trips_2014_2_df = pd.read_csv(hubway_trips_2014_2)\n"
     ]
    },
    {
     "data": {
      "text/plain": [
       "Duration                                                397101\n",
       "Start date                                    12/31/2014 23:58\n",
       "End date                                         1/1/2015 0:05\n",
       "Start station number                                    B32004\n",
       "Start station name        Aquarium Station - 200 Atlantic Ave.\n",
       "End station number                                      D32022\n",
       "End station name        TD Garden - Causeway at Portal Park #1\n",
       "Bike number                                             T01335\n",
       "Member type                                             Member\n",
       "Zip code                                                2148.0\n",
       "Gender                                                    Male\n",
       "Name: 0, dtype: object"
      ]
     },
     "execution_count": 200,
     "metadata": {},
     "output_type": "execute_result"
    }
   ],
   "source": [
    "trips_2014_2_df = pd.read_csv(trips_2014_2)\n",
    "print(trips_2014_2_df.columns) # 767,241\n",
    "trips_2014_2_df.iloc[0]"
   ]
  },
  {
   "cell_type": "markdown",
   "id": "576b49c4",
   "metadata": {},
   "source": [
    "duration is in milliseconds!"
   ]
  },
  {
   "cell_type": "code",
   "execution_count": 201,
   "id": "ce397bdb",
   "metadata": {},
   "outputs": [
    {
     "name": "stdout",
     "output_type": "stream",
     "text": [
      "Index(['Station ID', 'Station', 'Latitude', 'Longitude', 'Municipality',\n",
      "       'publiclyExposed', '# of Docks'],\n",
      "      dtype='object')\n"
     ]
    },
    {
     "data": {
      "text/plain": [
       "Station ID                   A32019\n",
       "Station            175 N Harvard St\n",
       "Latitude                  42.363796\n",
       "Longitude                -71.129164\n",
       "Municipality                 Boston\n",
       "publiclyExposed                   1\n",
       "# of Docks                       18\n",
       "Name: 0, dtype: object"
      ]
     },
     "execution_count": 201,
     "metadata": {},
     "output_type": "execute_result"
    }
   ],
   "source": [
    "previous_hubway_stations_2017_df = pd.read_csv(previous_hubway_stations_2017)\n",
    "print(previous_hubway_stations_2017_df.columns) # 281\n",
    "previous_hubway_stations_2017_df.iloc[0]"
   ]
  },
  {
   "cell_type": "markdown",
   "id": "6afc61a1",
   "metadata": {},
   "source": [
    "okkkk so this is super msessy and incocnsitnet. the pre-2015 ones do not have lat and long so will concatenate those later. first i'm going to get a clean, reliable master station reference from all 2015+ rows"
   ]
  },
  {
   "cell_type": "code",
   "execution_count": 204,
   "id": "e2abce24",
   "metadata": {},
   "outputs": [
    {
     "data": {
      "text/plain": [
       "started_at                                          2015-01-01 00:21:44\n",
       "ended_at                                            2015-01-01 00:30:47\n",
       "start_station_name                                Porter Square Station\n",
       "start_station_id                                                    115\n",
       "start_lat                                                     42.387995\n",
       "start_lng                                                    -71.119084\n",
       "end_station_id                                                       96\n",
       "end_station_name      Cambridge Main Library at Broadway / Trowbridg...\n",
       "end_lat                                                       42.373379\n",
       "end_lng                                                      -71.111075\n",
       "member_casual                                                Subscriber\n",
       "Name: 0, dtype: object"
      ]
     },
     "execution_count": 204,
     "metadata": {},
     "output_type": "execute_result"
    }
   ],
   "source": [
    "big_df.iloc[0]"
   ]
  },
  {
   "cell_type": "code",
   "execution_count": 208,
   "id": "5d1554ba",
   "metadata": {},
   "outputs": [],
   "source": [
    "start_stations = big_df[['start_station_name', 'start_station_id', 'start_lat', 'start_lng']].rename(\n",
    "    columns = {\n",
    "        'start_station_name' : 'station_name',\n",
    "        'start_station_id' : 'station_id',\n",
    "        'start_lat' : 'lat',\n",
    "        'start_lng' : 'long'\n",
    "    }\n",
    ")"
   ]
  },
  {
   "cell_type": "code",
   "execution_count": 209,
   "id": "02714861",
   "metadata": {},
   "outputs": [],
   "source": [
    "end_stations = big_df[['end_station_name', 'end_station_id', 'end_lat', 'end_lng']].rename(\n",
    "    columns = {\n",
    "        'end_station_name' : 'station_name',\n",
    "        'end_station_id' : 'station_id',\n",
    "        'end_lat' : 'lat',\n",
    "        'end_lng' : 'long'\n",
    "    }\n",
    ")"
   ]
  },
  {
   "cell_type": "code",
   "execution_count": 210,
   "id": "07ff746a",
   "metadata": {},
   "outputs": [
    {
     "name": "stdout",
     "output_type": "stream",
     "text": [
      "pre dropna len: 54131220\n",
      "post dropna len: 54100150\n",
      "post drop duplicate len: 906926\n"
     ]
    }
   ],
   "source": [
    "station_master = pd.concat([start_stations, end_stations]) # concat\n",
    "print('pre dropna len:', station_master.shape[0])\n",
    "station_master.dropna(inplace=True) # drop any nas\n",
    "print('post dropna len:', station_master.shape[0])\n",
    "station_master.drop_duplicates(inplace=True) # drop duplicates\n",
    "print('post drop duplicate len:', station_master.shape[0])"
   ]
  },
  {
   "cell_type": "code",
   "execution_count": 231,
   "id": "24868556",
   "metadata": {},
   "outputs": [
    {
     "data": {
      "text/plain": [
       "array(['H32007'], dtype=object)"
      ]
     },
     "execution_count": 231,
     "metadata": {},
     "output_type": "execute_result"
    }
   ],
   "source": [
    "station_master.sort_values(by='station_name').head(150)['station_id'].unique()"
   ]
  },
  {
   "cell_type": "code",
   "execution_count": null,
   "id": "41f7e48f",
   "metadata": {},
   "outputs": [],
   "source": [
    "station_master = station_master.groupby('station_name').agg({\n",
    "    'station_id': lambda x: list(set(x)),\n",
    "    'lat': 'mean',\n",
    "    'long': 'mean'\n",
    "})"
   ]
  },
  {
   "cell_type": "code",
   "execution_count": 249,
   "id": "1cd049a3",
   "metadata": {},
   "outputs": [
    {
     "data": {
      "text/html": [
       "<div>\n",
       "<style scoped>\n",
       "    .dataframe tbody tr th:only-of-type {\n",
       "        vertical-align: middle;\n",
       "    }\n",
       "\n",
       "    .dataframe tbody tr th {\n",
       "        vertical-align: top;\n",
       "    }\n",
       "\n",
       "    .dataframe thead th {\n",
       "        text-align: right;\n",
       "    }\n",
       "</style>\n",
       "<table border=\"1\" class=\"dataframe\">\n",
       "  <thead>\n",
       "    <tr style=\"text-align: right;\">\n",
       "      <th></th>\n",
       "      <th>station_id</th>\n",
       "      <th>lat</th>\n",
       "      <th>long</th>\n",
       "    </tr>\n",
       "    <tr>\n",
       "      <th>station_name</th>\n",
       "      <th></th>\n",
       "      <th></th>\n",
       "      <th></th>\n",
       "    </tr>\n",
       "  </thead>\n",
       "  <tbody>\n",
       "    <tr>\n",
       "      <th>Broadway and Cabot</th>\n",
       "      <td>[H32007]</td>\n",
       "      <td>42.402255</td>\n",
       "      <td>-71.019582</td>\n",
       "    </tr>\n",
       "    <tr>\n",
       "      <th>101 Smith Place</th>\n",
       "      <td>[M32093]</td>\n",
       "      <td>42.392528</td>\n",
       "      <td>-71.150655</td>\n",
       "    </tr>\n",
       "    <tr>\n",
       "      <th>1200 Beacon St</th>\n",
       "      <td>[452, K32015]</td>\n",
       "      <td>42.344050</td>\n",
       "      <td>-71.115093</td>\n",
       "    </tr>\n",
       "    <tr>\n",
       "      <th>160 Arsenal</th>\n",
       "      <td>[W32006, 502]</td>\n",
       "      <td>42.364664</td>\n",
       "      <td>-71.175694</td>\n",
       "    </tr>\n",
       "    <tr>\n",
       "      <th>160 Arsenal St</th>\n",
       "      <td>[W32006]</td>\n",
       "      <td>42.364692</td>\n",
       "      <td>-71.175489</td>\n",
       "    </tr>\n",
       "    <tr>\n",
       "      <th>...</th>\n",
       "      <td>...</td>\n",
       "      <td>...</td>\n",
       "      <td>...</td>\n",
       "    </tr>\n",
       "    <tr>\n",
       "      <th>Williams St at Washington St</th>\n",
       "      <td>[D32040, 279]</td>\n",
       "      <td>42.306618</td>\n",
       "      <td>-71.107707</td>\n",
       "    </tr>\n",
       "    <tr>\n",
       "      <th>Wilson Square</th>\n",
       "      <td>[S32005, 99]</td>\n",
       "      <td>42.385608</td>\n",
       "      <td>-71.113962</td>\n",
       "    </tr>\n",
       "    <tr>\n",
       "      <th>Winthrop Circle</th>\n",
       "      <td>[F32014]</td>\n",
       "      <td>42.421342</td>\n",
       "      <td>-71.117536</td>\n",
       "    </tr>\n",
       "    <tr>\n",
       "      <th>Wood Island T Stop - Vienna St at Bennington St</th>\n",
       "      <td>[A32068]</td>\n",
       "      <td>42.380110</td>\n",
       "      <td>-71.024333</td>\n",
       "    </tr>\n",
       "    <tr>\n",
       "      <th>Yawkey Way at Boylston St.</th>\n",
       "      <td>[45]</td>\n",
       "      <td>42.344693</td>\n",
       "      <td>-71.097684</td>\n",
       "    </tr>\n",
       "  </tbody>\n",
       "</table>\n",
       "<p>834 rows × 3 columns</p>\n",
       "</div>"
      ],
      "text/plain": [
       "                                                    station_id        lat  \\\n",
       "station_name                                                                \n",
       " Broadway and Cabot                                   [H32007]  42.402255   \n",
       "101 Smith Place                                       [M32093]  42.392528   \n",
       "1200 Beacon St                                   [452, K32015]  42.344050   \n",
       "160 Arsenal                                      [W32006, 502]  42.364664   \n",
       "160 Arsenal St                                        [W32006]  42.364692   \n",
       "...                                                        ...        ...   \n",
       "Williams St at Washington St                     [D32040, 279]  42.306618   \n",
       "Wilson Square                                     [S32005, 99]  42.385608   \n",
       "Winthrop Circle                                       [F32014]  42.421342   \n",
       "Wood Island T Stop - Vienna St at Bennington St       [A32068]  42.380110   \n",
       "Yawkey Way at Boylston St.                                [45]  42.344693   \n",
       "\n",
       "                                                      long  \n",
       "station_name                                                \n",
       " Broadway and Cabot                             -71.019582  \n",
       "101 Smith Place                                 -71.150655  \n",
       "1200 Beacon St                                  -71.115093  \n",
       "160 Arsenal                                     -71.175694  \n",
       "160 Arsenal St                                  -71.175489  \n",
       "...                                                    ...  \n",
       "Williams St at Washington St                    -71.107707  \n",
       "Wilson Square                                   -71.113962  \n",
       "Winthrop Circle                                 -71.117536  \n",
       "Wood Island T Stop - Vienna St at Bennington St -71.024333  \n",
       "Yawkey Way at Boylston St.                      -71.097684  \n",
       "\n",
       "[834 rows x 3 columns]"
      ]
     },
     "execution_count": 249,
     "metadata": {},
     "output_type": "execute_result"
    }
   ],
   "source": [
    "station_master"
   ]
  },
  {
   "cell_type": "code",
   "execution_count": 252,
   "id": "f29204f1",
   "metadata": {},
   "outputs": [],
   "source": [
    "station_master.reset_index(inplace = True)"
   ]
  },
  {
   "cell_type": "markdown",
   "id": "00835314",
   "metadata": {},
   "source": [
    "great! next i'm going to explore any inconsistencies or outliers etc. and resolve as needed... ambiguous task. and map the stations to make sure it seems reasonable\n",
    "\n",
    "following [this link](https://edg.it.com/python-interactive-mapping/how-to-create-interactive-maps-with-python-using-openstreetmap-and-plotly/) to make a map"
   ]
  },
  {
   "cell_type": "code",
   "execution_count": 253,
   "id": "260df895",
   "metadata": {},
   "outputs": [
    {
     "data": {
      "text/html": [
       "<div>\n",
       "<style scoped>\n",
       "    .dataframe tbody tr th:only-of-type {\n",
       "        vertical-align: middle;\n",
       "    }\n",
       "\n",
       "    .dataframe tbody tr th {\n",
       "        vertical-align: top;\n",
       "    }\n",
       "\n",
       "    .dataframe thead th {\n",
       "        text-align: right;\n",
       "    }\n",
       "</style>\n",
       "<table border=\"1\" class=\"dataframe\">\n",
       "  <thead>\n",
       "    <tr style=\"text-align: right;\">\n",
       "      <th></th>\n",
       "      <th>index</th>\n",
       "      <th>lat</th>\n",
       "      <th>long</th>\n",
       "    </tr>\n",
       "  </thead>\n",
       "  <tbody>\n",
       "    <tr>\n",
       "      <th>count</th>\n",
       "      <td>834.000000</td>\n",
       "      <td>834.000000</td>\n",
       "      <td>834.000000</td>\n",
       "    </tr>\n",
       "    <tr>\n",
       "      <th>mean</th>\n",
       "      <td>416.500000</td>\n",
       "      <td>41.979471</td>\n",
       "      <td>-70.449686</td>\n",
       "    </tr>\n",
       "    <tr>\n",
       "      <th>std</th>\n",
       "      <td>240.899357</td>\n",
       "      <td>3.935258</td>\n",
       "      <td>6.601854</td>\n",
       "    </tr>\n",
       "    <tr>\n",
       "      <th>min</th>\n",
       "      <td>0.000000</td>\n",
       "      <td>0.000000</td>\n",
       "      <td>-73.566921</td>\n",
       "    </tr>\n",
       "    <tr>\n",
       "      <th>25%</th>\n",
       "      <td>208.250000</td>\n",
       "      <td>42.336452</td>\n",
       "      <td>-71.114289</td>\n",
       "    </tr>\n",
       "    <tr>\n",
       "      <th>50%</th>\n",
       "      <td>416.500000</td>\n",
       "      <td>42.353383</td>\n",
       "      <td>-71.083238</td>\n",
       "    </tr>\n",
       "    <tr>\n",
       "      <th>75%</th>\n",
       "      <td>624.750000</td>\n",
       "      <td>42.375260</td>\n",
       "      <td>-71.060859</td>\n",
       "    </tr>\n",
       "    <tr>\n",
       "      <th>max</th>\n",
       "      <td>833.000000</td>\n",
       "      <td>45.505086</td>\n",
       "      <td>0.000000</td>\n",
       "    </tr>\n",
       "  </tbody>\n",
       "</table>\n",
       "</div>"
      ],
      "text/plain": [
       "            index         lat        long\n",
       "count  834.000000  834.000000  834.000000\n",
       "mean   416.500000   41.979471  -70.449686\n",
       "std    240.899357    3.935258    6.601854\n",
       "min      0.000000    0.000000  -73.566921\n",
       "25%    208.250000   42.336452  -71.114289\n",
       "50%    416.500000   42.353383  -71.083238\n",
       "75%    624.750000   42.375260  -71.060859\n",
       "max    833.000000   45.505086    0.000000"
      ]
     },
     "execution_count": 253,
     "metadata": {},
     "output_type": "execute_result"
    }
   ],
   "source": [
    "station_master.describe()"
   ]
  },
  {
   "cell_type": "code",
   "execution_count": 254,
   "id": "19d15811",
   "metadata": {},
   "outputs": [
    {
     "data": {
      "application/vnd.plotly.v1+json": {
       "config": {
        "plotlyServerURL": "https://plot.ly"
       },
       "data": [
        {
         "hovertemplate": "<b>%{hovertext}</b><br><br>lat=%{lat}<br>long=%{lon}<extra></extra>",
         "hovertext": [
          " Broadway and Cabot",
          "101 Smith Place",
          "1200 Beacon St",
          "160 Arsenal",
          "160 Arsenal St",
          "175 N Harvard St",
          "18 Dorrance Warehouse",
          "191 Beacon St",
          "2 Hummingbird Lane at Olmsted Green",
          "30 Dane St",
          "30 Dane St.",
          "30 Dane St. (former)",
          "300 Summer St",
          "325 Binney St.",
          "359 Broadway ",
          "359 Broadway - Broadway at Fayette Street",
          "40 Thorndike St",
          "515 Somerville Ave (Temp. Winter Location)",
          "55 Wheeler Street",
          "555 Metropolitan Ave",
          "606 American Legion Hwy at Canterbury St",
          "615 Broadway",
          "645 Summer St",
          "699 Mt Auburn St",
          "699 Mt Auburn St (former)",
          "7 Acre Park",
          "700 Commonwealth Ave.",
          "700 Huron Ave",
          "75 Binney St",
          "780 Morrissey Blvd",
          "84 Cambridgepark Dr",
          "855 Broadway",
          "87-101 Cambridgepark Drive",
          "8D OPS 01",
          "8D OPS 03",
          "8D QC Station 01",
          "8D QC Station 02",
          "955 Mass Ave",
          "99 Coolidge Ave",
          "Adams Branch Library",
          "Adams St at Lonsdale St",
          "Adams St at Mallet St.",
          "Addison St at Saratoga St",
          "Agganis Arena - 925 Comm Ave.",
          "Airport T Stop - Bremen St at Brooks St",
          "Albany St at E. Brookline St",
          "Alewife MBTA at Steel Place",
          "Alewife Station at Russell Field",
          "Allston Green District - Commonwealth Ave & Griggs St",
          "Allston Green District - Griggs St at Commonwealth Ave",
          "Allston Green District - Griggs St at Commonwealth Ave TEMPORARY WINTER LOCATION",
          "American Legion Hwy at Canterbury St",
          "American Legion Hwy at Cummins Hwy",
          "American Legion Hwy at Hyde Park Ave",
          "Ames St at Broadway",
          "Ames St at Main St",
          "Andrew Station - Dorchester Ave at Humboldt Pl",
          "Andrew T Stop - Dorchester Ave at Dexter St",
          "Aquarium Station - 200 Atlantic Ave.",
          "Aquarium T Stop - 200 Atlantic Ave",
          "Arch St at Franklin St",
          "Archdale Rd at Washington St",
          "Archdale Rd at Washington St (former)",
          "Arsenal Yards",
          "Arsenal on the Charles",
          "Ashley St at Boardman",
          "Ashmont T Stop",
          "Assembly Square T",
          "Au Bon Pain Way at Fid Kennedy Ave",
          "Auburn St. at Mystic River",
          "Auburndale",
          "B.U. Central - 725 Comm. Ave.",
          "BCBS Hingham",
          "BCBS Quincy",
          "BIDMC - Brookline at Burlington St",
          "Back Bay / South End Station",
          "Back Bay T Stop - Dartmouth St at Stuart St",
          "Bacon St at Washington St",
          "Ball Sq",
          "Bartlett St at John Elliot Sq",
          "Bartlett St at John Elliot Sq (former)",
          "Beach St at Freeport St",
          "Beachmont Square at Suffolk Downs",
          "Beacon St / Mass Ave",
          "Beacon St at Arlington St",
          "Beacon St at Charles St",
          "Beacon St at Englewood Ave",
          "Beacon St at Hawes St",
          "Beacon St at Massachusetts Ave",
          "Beacon St at St. Paul St",
          "Beacon St at Tappan St",
          "Beacon St at Washington / Kirkland",
          "Beacon at Walnut",
          "Belgrade Ave at Walworth St",
          "Bellevue T Stop",
          "Bellingham Square",
          "Bennington St at Byron St",
          "Bennington St at Constitution Beach",
          "Bennington St at Constitution Beach (former)",
          "Bennington St at Marion St",
          "Berkshire Street at Cambridge Street",
          "Big Papi Station",
          "Bike Town at Moakley Park",
          "Binney St / Sixth St",
          "Blossom St at Charles St",
          "Blossom St at Charles St 1 1 1",
          "Blue Hill Ave at Almont St",
          "Blue Hill Ave at Almont St (former)",
          "Blue Hill Ave at Havelock St",
          "Blue Hill Ave at Southwood St",
          "Blue Hill Ave at Southwood St (former)",
          "Boston City Hall - 28 State St",
          "Boston College T",
          "Boston Convention & Exhibition Center",
          "Boston Convention and Exhibition Center - Summer St at West Side Dr",
          "Boston East - 126 Border St",
          "Boston Landing",
          "Boston Medical Center -  East Concord at Harrison Ave",
          "Boston Medical Center - E Concord St at Harrison Ave",
          "Boston Public Library - 700 Boylston St.",
          "Boston Public Market",
          "Boston Public Market - Surface Rd at Sudbury St",
          "Bowdoin St at Quincy St",
          "Boylston / Mass Ave",
          "Boylston St / Berkeley St",
          "Boylston St / Washington St",
          "Boylston St at Arlington St",
          "Boylston St at Arlington St TEMPORARY WINTER LOCATION",
          "Boylston St at Berkeley St",
          "Boylston St at Charles St",
          "Boylston St at Charles St (Temp Winter Location)",
          "Boylston St at Dartmouth St",
          "Boylston St at Dartmouth St FORMER",
          "Boylston St at Exeter St",
          "Boylston St at Fairfield St",
          "Boylston St at Jersey St",
          "Boylston St at Jersey St (former)",
          "Boylston St at Massachusetts Ave",
          "Boylston St at Washington St",
          "Boylston St. at Arlington St.",
          "Boylston at Fairfield",
          "Boynton Yards at 101 South Street",
          "Bremen St at Marion St",
          "Brian P. Murphy Staircase at Child Street",
          "Bridge Street Neck",
          "Brigham Cir / Huntington Ave",
          "Brigham Circle - Francis St at Huntington Ave",
          "Brighton Ave at Linden St",
          "Brighton Center",
          "Brighton Center - Washington St at Cambridge St",
          "Brighton Mills - 370 Western Ave",
          "Broad Canal Way at Third Street",
          "Broad St at Central St",
          "Broadway Opposite Norwood Ave  (Temp Winter Station)",
          "Broadway St at Mt Pleasant St",
          "Broadway T Stop",
          "Broadway T Stop (former)",
          "Broadway at Beacham St",
          "Broadway at Central St",
          "Broadway at Gerrish Ave",
          "Broadway at Grafton St",
          "Broadway at Kittie Knox Bike Path",
          "Broadway at Lynde St",
          "Broadway at Maple St",
          "Brookline Town Hall",
          "Brookline Village - Pearl Street @ MBTA",
          "Brookline Village - Pearl Street at MBTA",
          "Brookline Village - Station Street @ MBTA",
          "Brookline Village - Station Street @ MBTA TEMPORARY WINTER LOCATION",
          "Brookline Village - Station Street at MBTA",
          "Bunker Hill Community College",
          "Burlington Ave at Brookline Ave",
          "Buswell St. at Park Dr.",
          "Butler T Stop",
          "California at Chapel",
          "Cambridge Crossing at North First Street",
          "Cambridge Dept. of Public Works -147 Hampshire St.",
          "Cambridge Main Library at Broadway / Trowbridge St",
          "Cambridge St - at Columbia St / Webster Ave",
          "Cambridge St at Joy St",
          "Cambridge St. at Joy St.",
          "CambridgeSide Galleria - CambridgeSide PL at Land Blvd",
          "Cambridgeside Pl at Land Blvd",
          "Canal St at Causeway St",
          "Canal St. at Causeway St.",
          "Carr Park",
          "Cary Square",
          "Cedar Grove T Stop",
          "Central Ave at River St",
          "Central Sq Post Office / Cambridge City Hall at Mass Ave / Pleasant St",
          "Central Square - East Boston",
          "Central Square East Boston",
          "Central Square East Boston - Porter Street at London Street",
          "Central Square at Mass Ave / Essex St",
          "Centre St at Allandale St",
          "Centre St at Commonwealth Ave",
          "Centre St at Parkway YMCA",
          "Centre St at Seaverns Ave",
          "Centre St at Seaverns Ave (former)",
          "Centre St at W. Roxbury Post Office",
          "Centre St at Washington St",
          "Centre St. at Allandale St.",
          "Charles Circle - Charles St at Cambridge St",
          "Charles Circle - Charles St at Cambridge St TEMPORARY WINTER LOCATION",
          "Charles Circle - Charles St. at Cambridge St.",
          "Charles River Greenway - California St. at Fifth Ave",
          "Charles St S at Stuart",
          "Charles St S at Stuart St",
          "Charles St and Beacon St",
          "Charles St at Beacon St",
          "Charles St at Pinckney St",
          "Charles st and Beacon St",
          "Charlestown - Main St at Austin St",
          "Charlestown - Warren St at Chelsea St",
          "Charlestown Navy Yard",
          "Charlestown Navy Yard (former)",
          "Chelsea Square",
          "Chelsea St at Medford St",
          "Chelsea St at Saratoga St",
          "Chelsea St at Vine St",
          "Chelsea Station",
          "Chestnut Hill Ave at Ledgemere Rd",
          "Chestnut Hill Ave. at Ledgemere Road",
          "Chestnut St at Poplar St",
          "Child St at North St",
          "Child Street at Brian P. Murphy Staircase",
          "Chinatown Gate Plaza",
          "Chinatown Gate Plaza - Surface Rd. at Beach St.",
          "Chinatown T Stop",
          "Christian Science Plaza",
          "Christian Science Plaza - Massachusetts Ave at Westland Ave",
          "Church St",
          "Circuit Drive at American Legion Hwy",
          "Clarendon Hill at Broadway",
          "Clarendon St at Commonwealth Ave",
          "Clarendon St at Newbury St",
          "Cleary Sq",
          "Cleveland Circle",
          "Cleveland Circle (former)",
          "Clinton St at North St",
          "Codman Square Library",
          "Codman Square Library (former)",
          "Colleges of the Fenway",
          "Colleges of the Fenway - Fenway at Avenue Louis Pasteur",
          "Columbia Rd at Ceylon St",
          "Columbia Rd at Tierney Community Center",
          "Columbia Rd at Tierney Community Center (former)",
          "Columbus Ave at Massachusetts Ave",
          "Columbus Ave at W. Canton St",
          "Columbus Ave. at Mass. Ave.",
          "Commercial St at Charter St",
          "Commonwealth Ave At Babcock St",
          "Commonwealth Ave at Agganis Way",
          "Commonwealth Ave at Blandford Mall",
          "Commonwealth Ave at Buick St",
          "Commonwealth Ave at Chiswick Rd",
          "Commonwealth Ave at Chiswick Rd (former)",
          "Commonwealth Ave at Fidelis Way",
          "Commonwealth Ave at Granby St",
          "Commonwealth Ave at Griggs St",
          "Commonwealth Ave at Kelton St",
          "Commonwealth Ave at Kelton St (former)",
          "Commonwealth Ave at Naples Rd",
          "Community Life Center",
          "Community Path at Cedar Street",
          "Community Path at Lowell St",
          "Concord Ave at Spinelli Place",
          "Congress / Sleeper",
          "Congress St and Northern Ave",
          "Congress St at Boston City Hall",
          "Congress St at North St",
          "Congress St at Northern Ave",
          "Congress St at Sleeper St",
          "Constitution Rd at Chelsea St",
          "Conway Park - Somerville Avenue",
          "Conway Park @ Bleachery Ct (Temp Winter Station)",
          "Coolidge Corner - Beacon St @ Centre St",
          "Coolidge Corner - Beacon St at Centre St",
          "Coolidge Sq.",
          "Copley Square - Dartmouth St at Boylston St",
          "Craigie & Summer at Conway Park (Temp. Winter Location)",
          "Craigie St at Summer St",
          "Craigie at Summer St",
          "Cross St at Hanover St",
          "Cross St at Stillman St",
          "Cross St. at Hanover St.",
          "Cummins Highway at Blue Hill Ave T Stop",
          "Cummins at American Legion",
          "Curtis Hall - South St at Centre St",
          "Curtis Hall at South Street",
          "Cypress St at Clark Playground",
          "Damrell St at Old Colony",
          "Damrell St at Old Colony Ave",
          "Damrell st at Old Colony Ave",
          "Dana Park",
          "Danehy Park",
          "Danehy Park at New Street",
          "Dartmouth St at Newbury St",
          "Davis Square",
          "Day Boulevard",
          "Day Sq",
          "Deerfield St at Commonwealth Ave",
          "Deerfield St at Commonwealth Ave (former)",
          "Derby Street",
          "Discovery Park - 30 Acorn Park Drive",
          "Dorchester Ave at Gillette Park",
          "Dorchester Ave at King St",
          "Dorchester Ave. at Gillette Park",
          "Dudley Square",
          "Dudley Square - Bolling Building",
          "Dudley Square - Dudley St at Warren St",
          "Dudley Town Common - Mt Pleasant Ave at Blue Hill Ave",
          "E Cottage St at Columbia Rd",
          "E. Cottage St at Columbia Rd",
          "EBNHC - 20 Maverick Sq",
          "EF - North Point Park",
          "East Boston Neighborhood Health Center - 20 Maverick Square",
          "East Somerville Library (Broadway and Illinois)",
          "Edgerly Education Center",
          "Edwards Playground - Main St at Eden St",
          "Edwards Playground - Main Street & Eden Street",
          "Egleston Square - Atherton St at Washington St",
          "Egleston Square at Columbus Ave",
          "Elevate at One Leighton",
          "Eliot Circle Revere Beach",
          "Elm St at White St",
          "Encore",
          "Essex St at Dalton Parkway",
          "Everett Square (Broadway at Chelsea St)",
          "Everett Square (Broadway at Norwood St)",
          "Fan Pier",
          "Faneuil Hall - Union St. at North St.",
          "Faneuil St at Arlington St",
          "Faneuil St at Arlington St (former)",
          "Faneuil St at Market St",
          "Farragut Rd at E. 6th St",
          "Ferry St at Pleasantview Ave",
          "Fields Corner T Stop",
          "Flat 9 at Whittier",
          "Foley St at Grand Union Blvd",
          "Forest Hills",
          "Forest River Park",
          "Forsyth St at Huntington Ave",
          "Foss Park",
          "Foss Park 2 (temp for winter)",
          "Four Corners - 157 Washington St",
          "Four Corners/Geneva T Stop",
          "Franklin Park - Seaver St at Humboldt Ave",
          "Franklin Park - Seaver St at Humbolt Ave",
          "Franklin Park - Seaver Street at Humbolt Ave",
          "Franklin Park Zoo",
          "Franklin Park Zoo - Franklin Park Rd at Blue Hill Ave",
          "Franklin St. / Arch St.",
          "Fresh Pond Reservation",
          "Galen St at Watertown St",
          "Galileo Galilei Way at Fulkerson St/Binney St",
          "Galileo Galilei Way at Main Street",
          "Gallivan Blvd at Adams St",
          "Geiger Gibson Community Health Center",
          "Gilman Square T at Medford St",
          "Glendale Square (Ferry St at Broadway)",
          "Glendon St at Condor St",
          "Goodhue St at Grove St",
          "Gore Street at Lambert Street",
          "Gove St at Orleans St",
          "Government Center - Cambridge St at Court St",
          "Governors Ave at Lawrence Rd",
          "Graham and Parks School – Linnaean St at Walker St",
          "Gramsdorf Playground",
          "Grand Union Blvd at Revolution Dr",
          "Green St T",
          "Green Street T Stop - Green St at Amory St",
          "Grove Hall Library",
          "Grove Hall Library - 41 Geneva Ave",
          "Grove St at Community Path",
          "Grove St at Community Path (former)",
          "HMS / HSPH - Ave. Louis Pasteur at Longwood Ave.",
          "HMS/HSPH - Avenue Louis Pasteur at Longwood Ave",
          "Haines Square",
          "Hale Park",
          "Hancock St at Pleasant St",
          "Harbor St at Channel St",
          "Harris Park",
          "Harrison Ave at Bennet St",
          "Harrison Ave at Bennet St (former)",
          "Harrison Ave at E. Dedham St",
          "Harrison Ave at Mullins Way",
          "Harrison Ave at Mullins Way (former)",
          "Harvard Ave at Brainerd Rd",
          "Harvard Ave at Brainerd Rd (former)",
          "Harvard Kennedy School at Bennett St / Eliot St",
          "Harvard Law School at Mass Ave / Jarvis St",
          "Harvard Real Estate - Brighton Mills - 370 Western Ave",
          "Harvard Square at Brattle St / Eliot St",
          "Harvard Square at Mass Ave/ Dunster",
          "Harvard St and Stedman St",
          "Harvard St at Greene-Rose Heritage Park",
          "Harvard St at Greene-Rose Heritage Park (former)",
          "Harvard Stadium: N. Harvard St at Soldiers Field Rd",
          "Harvard University / SEAS Cruft-Pierce Halls at 29 Oxford St",
          "Harvard University Gund Hall at Quincy St / Kirkland S",
          "Harvard University Gund Hall at Quincy St / Kirkland St",
          "Harvard University Housing - 111 Western Ave. at Soldiers Field Park ",
          "Harvard University Housing - 115 Putnam Ave at Peabody Terrace",
          "Harvard University Radcliffe Quadrangle at Shepard St / Garden St",
          "Harvard University River Houses at DeWolfe St / Cowperthwaite St",
          "Harvard University Transportation Services - 175 North Harvard St",
          "Hawthorne Boulevard",
          "Hayes Square - Vine St at Moulton St",
          "Hayes Square at Vine St.",
          "Heath St at South Huntington",
          "Herter Park",
          "Hickey Park",
          "High St at Cypress St",
          "High St at Federal St",
          "Honan Library",
          "Hood Park",
          "Hormel Stadium",
          "Huntington Ave at Mass Art",
          "Huntington Ave at Mass Art (former)",
          "Huron Ave At Vassal Lane",
          "Huron Ave. At Vassal Lane",
          "Hyde Park Ave at Arlington St",
          "Hyde Park Ave at Walk Hill St",
          "Hyde Park Library",
          "Hyde Square - Barbara St at Centre St",
          "Hyde Square - Centre St at Perkins St",
          "Hyde Square at Barbara St",
          "ID Building East",
          "ID Building West",
          "Ink Block",
          "Ink Block - Harrison Ave at Herald St",
          "Inman Square at Springfield St.",
          "Inman Square at Vellucci Plaza / Hampshire St",
          "Innerbelt at East Somerville Station",
          "Innovation Lab - 125 Western Ave at Batten Way",
          "Innovation Lab - 125 Western Ave. at Batten Way",
          "JFK / UMASS at MBTA Station",
          "JFK Crossing at Harvard St. / Thorndike St.",
          "JFK/UMass T Stop",
          "JP Center - Centre Street at Myrtle Street",
          "Jackson Square T Stop",
          "Jackson Square T at Centre St",
          "Jamaica St at South St",
          "Jamaicaway at Perkins St",
          "Jersey St. at Boylston St.",
          "John Ahern Field at Kennedy-Longfellow School",
          "John F Fitzgerald - Surface Road at India Street",
          "Kearins Playground",
          "Kendall Street",
          "Kendall T",
          "Kenmore Sq / Comm Ave",
          "Kenmore Square",
          "Kenmore Square - 660 Beacon St",
          "Kennedy-Longfellow School 158 Spring St",
          "Kierstead Park ",
          "Knoll St at Centre St",
          "Lab PBSC",
          "Lafayette Square at Mass Ave / Main St / Columbia St",
          "Lafayette at Leach St",
          "Lake St. at Minuteman Bikeway",
          "Landmark Center - Brookline Ave at Park Dr",
          "Landmark Centre",
          "Langley Lot",
          "Lansdowne T Stop",
          "Lawn on D",
          "Lechmere Canal Park",
          "Lechmere Station at Cambridge St / First St",
          "Lenox St at Kendall St",
          "Lesley University",
          "Lewis Mall Wharf",
          "Lewis Wharf - Atlantic Ave.",
          "Lewis Wharf at Atlantic Ave",
          "Lincoln St at Empire St",
          "Linear Park - Mass. Ave. at Cameron Ave. ",
          "Linwood St at Minuteman Bikeway",
          "Logan Park",
          "Longwood Ave / Binney St",
          "Longwood Ave at Binney St",
          "Lower Cambridgeport at Magazine St / Riverside Rd",
          "Lower Cambridgeport at Magazine St/Riverside Rd",
          "MIT Carleton St at Amherst St",
          "MIT Hayward St at Amherst St",
          "MIT Pacific St at Purrington St",
          "MIT Stata Center at Vassar St / Main St",
          "MIT Vassar St",
          "MIT at Mass Ave / Amherst St",
          "MLK Blvd at Washington St",
          "MTL-ECO4-01",
          "MTL-ECO5.1-01",
          "Magoun Square at Trum Field",
          "Main St at Austin St",
          "Main St at Baldwin St",
          "Main St at Beacon St",
          "Main St at Brooks Park",
          "Main St at Devens St",
          "Main St at Salem St",
          "Main St at Thompson Sq",
          "Main St at Thompson Sq (former)",
          "Main Street at Carter Street",
          "Main Street/Albany Street/Technology Square",
          "Malden Center T Station",
          "Malden High School",
          "Marion St at Harvard St",
          "Marion St at White St",
          "Market St at Faneuil St",
          "Martha Eliot Health Center",
          "Mass Ave T Station",
          "Mass Ave at Albany St",
          "Mass Ave at Alewife Greenway",
          "Mass Ave at Broadway",
          "Mass Ave at Grafton St",
          "Mass Ave at Hadley/Walden",
          "Mass Ave at Hadley/Walden (former)",
          "Mass Ave at Newmarket Square",
          "Mass Ave/Lafayette Square",
          "Massachusetts Ave at Boylston St.",
          "Massachusetts Ave at Columbus Ave",
          "Mattapan Library",
          "Mattapan Library (former)",
          "Mattapan T Stop",
          "Mattapan T Stop (former)",
          "Maverick Sq - Lewis Mall",
          "Maverick Square - Lewis Mall",
          "Maverick St at Massport Path",
          "Mayor Martin J Walsh - 28 State St",
          "Mayor Salvo Path at Mill St",
          "Meaney Playground - Pleasant St at E Cottage St",
          "Meaney Playground - Pleasant st at E Cottage St",
          "Medford Sq - Riverside Ave at River St",
          "Medford St at Charlestown BCYF",
          "Medford St at Charlestown BCYF (former)",
          "Medford St at McNulty Ct",
          "Medford St at Warren St",
          "Medford St. at Warren St.",
          "Melnea Cass Blvd at Hampden St",
          "Mill St. at Minuteman Bikeway",
          "Mobile Temporary Station",
          "Mobile Temporary Station 1",
          "Mobile Temporary Station 2",
          "Moore Youth Center",
          "Morgan Ave at North First St",
          "Morton St T",
          "Morton St T (former)",
          "Morton St at Gallivan Blvd",
          "Mt Auburn",
          "Mt Pleasant Ave / Dudley Town Common",
          "Mt. Hope St at Hyde Park Ave",
          "Mugar Way at Beacon St",
          "Murphy Skating Rink - 1880 Day Blvd",
          "Museum of Science",
          "Mystic Valley Parkway at River Station",
          "N. Beacon St at N. Beacon Ct",
          "NCAAA - Walnut Ave at Crawford St",
          "Nashua Street at Red Auerbach Way",
          "Nashua Street at Red Auerbach Way [Extension]",
          "New Balance - 20 Guest St",
          "New Balance - 20 Guest St.",
          "New Balance Store - Boylston at Dartmouth",
          "Newbury St / Hereford St",
          "Newbury St at Hereford St",
          "Newmarket Square T Stop - Massachusetts Ave at Newmarket Square",
          "Newton Highlands T",
          "Newton Library",
          "Nichols Ave. at Watertown Greenway",
          "Nonantum Library",
          "Norman St at Kelvin St",
          "North St at Liberty Hill Ave",
          "Northbourne Rd at Hyde Park Ave",
          "Northeastern U / North Parking Lot",
          "Northeastern University - North Parking Lot",
          "Northern Ave at Haul Rd",
          "Northern Strand - West St & Wellington Ave",
          "Northern Strand at Bike Kitchen ",
          "Northern Strand at Main St",
          "Northern Strand at Salem Street",
          "Northhampton St at Fellows St",
          "Nubian Square - Bolling Building",
          "O'Brien Highway at First Street",
          "Oak Square - 615 Washington St",
          "Oak Square YMCA",
          "Old Morse Park at Putnam Ave",
          "One Beacon St",
          "One Brigham Circle",
          "One Brigham Circle (former)",
          "One Broadway / Kendall Sq at Main St / 3rd St",
          "One Kendall Square at Hampshire St / Portland St",
          "One Memorial Drive",
          "Orient Heights T Stop - Bennington St at Saratoga St",
          "Orr Sq (Shirley Ave)",
          "Packard Ave / Powderhouse Blvd",
          "Packard Ave at Powderhouse Blvd",
          "Packard's Corner - Comm. Ave. at Brighton Ave.",
          "Packard's Corner - Commonwealth Ave at Brighton Ave",
          "Park Dr at Buswell St",
          "Park Plaza at Charles St",
          "Park Plaza at Charles St (former)",
          "Park Plaza at Charles St S.",
          "Park Plaza at Columbus Ave",
          "Park St at Norwell St",
          "Park Street T Stop - Tremont St at Park St",
          "Parker St at Huntington Ave",
          "Pearl St at Medford St",
          "Pearl St at Milk St",
          "Perry Park",
          "Pier 4 Blvd at Autumn Ln",
          "Piers Park",
          "Piers Park- Marginal St at East Boston Shipyard",
          "Pope John High School",
          "Pope John Paul II Park - Neponset Trail at Hallet St",
          "Porter Square Station",
          "Porzio Park",
          "Post Office Square",
          "Post Office Square - Pearl St at Milk St",
          "Powder House Circle - Nathan Tufts Park",
          "Prudential Center - 101 Huntington Ave",
          "Prudential Center - Belvedere St",
          "Prudential Center / Belvidere",
          "Purchase St at Pearl St",
          "Railroad Lot and Minuteman Bikeway",
          "Raymond Park at Walden St",
          "Revere Beach - Markey Footbridge",
          "Revere City Hall",
          "Revere Public Library",
          "Rindge Avenue - O'Neill Library",
          "Ring Rd",
          "Riverway at Brookline Ave",
          "Rogers St & Land Blvd",
          "Roseland St At Dorchester Ave",
          "Roslindale Village - South St",
          "Roslindale Village - South St (former)",
          "Roslindale Village - Washington St",
          "Roslindale Village - Washington St (former)",
          "Ross Playground",
          "Rowes Wharf - Atlantic Ave",
          "Rowes Wharf at Atlantic Ave",
          "Roxbury Crossing Station",
          "Roxbury Crossing T Stop - Columbus Ave at Tremont St",
          "Roxbury YMCA",
          "Roxbury YMCA - Warren St at MLK Blvd",
          "Ruggles Station / Columbus Ave.",
          "Ruggles T Stop - Columbus Ave at Melnea Cass Blvd",
          "Rutherford Ave at Bunker Hill Industrial Park",
          "Ryan Playground - Dorchester Ave at Harbor View St",
          "Ryan Playground - Dorchester Avenue Station",
          "S Huntington Ave at Heath St",
          "Salem Ferry Landing",
          "Salem MBTA - Lower Level",
          "Salem MBTA - Washington at Federal St",
          "Salem State University - Bike Path at Loring Ave",
          "Salem State University - North Campus",
          "Salem Willows Park",
          "Savin Hill MBTA Station",
          "Savin Hill T Stop - S Sydney St at Bay St",
          "Seaport Blvd at Sleeper St",
          "Seaport Hotel",
          "Seaport Hotel - Congress St at Seaport Ln",
          "Seaport Square - Seaport Blvd at Northern Ave",
          "Seaport Square - Seaport Blvd. at Boston Wharf",
          "Sennott Park  Broadway at Norfolk Street",
          "Sennott Park Broadway at Norfolk Street",
          "Shawmut Ave at E Berkeley St",
          "Shawmut Ave at Herald St",
          "Shawmut Ave at Lenox St",
          "Shawmut Ave at Oak St W",
          "Shawmut Ave. at Herald St.",
          "Shawmut T Stop",
          "Shetland Park - Congress at Peabody St",
          "Sidney Research Campus/ Erie Street at Waverly",
          "Sidney Research Campus/Erie Street at Waverly",
          "Silber Way",
          "Smith Pl at Wilson Rd",
          "Soldiers Field Park - 111 Western Ave",
          "Somerville City Hall",
          "Somerville City Hall Annex",
          "Somerville High School & Central Library",
          "Somerville Hospital",
          "Somerville Hospital at Highland Ave / Crocker St",
          "South Boston Library - 646 E Broadway",
          "South Boston Library - 646 East Broadway",
          "South End Library - Tremont St at W Newton St",
          "South Station - 700 Atlantic Ave",
          "South Station - 700 Atlantic Ave.",
          "Spaulding Rehabilitation Hospital - Charlestown Navy Yard",
          "Spring St at Powell St",
          "St Mary's",
          "St. Alphonsus St at Tremont St",
          "Stadium Rd at Western Ave",
          "Staniford St at Merrimac St",
          "Staniford at Merrimac",
          "State Street at Channel Center",
          "Steve Miller Dr at Winthrop St (Medford High)",
          "Stony Brook T Stop",
          "Stuart St at Berkeley St",
          "Stuart St at Charles St",
          "Stuart St at Church St",
          "Stuart St. at Charles St.",
          "Sullivan Square",
          "Summer St at Cutter St",
          "Summer St at Quincy St",
          "Sumner St at Shirley Ave",
          "Surface Rd at India St",
          "Surface Rd at State Street",
          "Surface Rd at Summer St",
          "Swan Pl. at Minuteman Bikeway",
          "Swan Place at Minuteman Bikeway",
          "Swan St. Park",
          "Sydney St at Carson St",
          "TD Garden - Causeway at Portal Park #1",
          "TD Garden - Causeway at Portal Park #2",
          "TD Garden - West End Park",
          "Talbot Ave At Blue Hill Ave",
          "Talbot Ave At Blue Hill Ave (former)",
          "Talbot Ave T Station",
          "Tappan St at Brookline Hills MBTA",
          "Teele Square",
          "Teele Square at 239 Holland St",
          "Test 000e3",
          "The Dimock Center",
          "The Eddy - New St at Sumner St",
          "The Eddy at New Street",
          "The Esplanade - Beacon St. at Arlington St.",
          "The Lawn on D",
          "The Overlook at St. Gabriel's",
          "Thetford Ave at Norfolk St",
          "Thetford Ave at Norfolk St (former)",
          "Third at Binney",
          "Thorndike Field at Minuteman Bikeway",
          "Tremont St / W Newton St",
          "Tremont St / West St",
          "Tremont St at Court St",
          "Tremont St at E Berkeley St",
          "Tremont St at Hamilton Pl",
          "Tremont St at Hamilton Place",
          "Tremont St at Northampton St",
          "Tremont St at Northampton St (former)",
          "Tremont St at W. Dedham St",
          "Tremont St at West St",
          "Tremont St. at Berkeley St.",
          "Tremont St. at Court St.",
          "Troy Boston",
          "Trum Field @ Cedar St (Temp Winter Station)",
          "Truman Parkway at Fairmount Ave",
          "Tufts Sq - Main St at Medford St",
          "UMass Boston Integrated Sciences Complex",
          "Union Square - Brighton Ave at Cambridge St",
          "Union Square - Brighton Ave. at Cambridge St.",
          "Union Square - Somerville",
          "Union Square East",
          "Union Square East (Temp Winter Station)",
          "Union Square Station",
          "Union St at Herrick Rd",
          "Union St at Herrick Rd – Newton Centre Green Line",
          "University Park",
          "University of Massachusetts Boston - Campus Center",
          "University of Massachusetts Boston - Integrated Sciences Complex",
          "Upham's Corner",
          "Upham's Corner - Columbia Rd",
          "Upham's Corner - Ramsey St at Dudley St",
          "Upham's Corner T Stop",
          "Upham's Corner T Stop - Magnolia St at Dudley St",
          "Upham's Corner TEMPORARY WINTER LOCATION",
          "Uphams Corner",
          "Uphams Corner T Stop - Magnolia St at Dudley St",
          "Valenti Way at Haverhill St",
          "Vassal Lane at Tobin/VLUS",
          "Vassal Lane at Tobin/VLUS (former)",
          "Verizon Innovation Hub 10 Ware Street",
          "Vinnin Square",
          "W Broadway at D St",
          "W Broadway at Dorchester St",
          "Walnut Ave at Crawford St",
          "Walnut Ave at School St",
          "Walnut Ave at Warren St",
          "Warehouse Lab PBSC",
          "Warren Ave at Dartmouth St",
          "Warren St at Chelsea St",
          "Wasgatt Playground",
          "Wasgott Playground",
          "Washington Sq",
          "Washington Square at Washington St. / Beacon St.",
          "Washington Square at Washington St. / Beacon St. TEMPORARY WINTER LOCATION",
          "Washington St @ New Washington St (Temp Winter Station)",
          "Washington St at Bowdoin St",
          "Washington St at Bradlee St",
          "Washington St at Brock St",
          "Washington St at Crafts St",
          "Washington St at Denton Terr",
          "Washington St at Egremont Rd",
          "Washington St at Egremont Rd (former)",
          "Washington St at Fuller St",
          "Washington St at Griggs Rd",
          "Washington St at Lenox St",
          "Washington St at Melnea Cass Blvd",
          "Washington St at Myrtle St",
          "Washington St at Myrtle St (former)",
          "Washington St at Northampton St",
          "Washington St at Peters Park",
          "Washington St at Rutland St",
          "Washington St at Talbot Ave",
          "Washington St at Talbot Ave (former)",
          "Washington St at Temple Pl",
          "Washington St at W Dedham St",
          "Washington St at Walnut St",
          "Washington St at Walsh Playground",
          "Washington St at Waltham St",
          "Washington St. at Lenox St.",
          "Washington St. at Rutland St.",
          "Washington St. at Waltham St.",
          "Watermark Seaport",
          "Watermark Seaport - Boston Wharf Rd at Seaport Blvd",
          "Watertown City Hall",
          "Watertown Sq",
          "Watertown St at 5th Ave",
          "Watertown St at Albemarle Rd",
          "Watertown Town Hall",
          "Wellington MBTA",
          "Wentworth Institute of Technology",
          "Wentworth Institute of Technology - Huntington Ave at Vancouver St",
          "West Broadway at D Street",
          "West Broadway at Dorchester St",
          "West End Park",
          "West Medford Square (Bower St at Harvard Ave)",
          "West Newton",
          "West Newton Armory",
          "Western Ave at Everett St",
          "Western Ave at Leo Birmingham Pkwy",
          "Western Ave at Richardson St",
          "Whittier St Health Center",
          "Williams St at Washington St",
          "Wilson Square",
          "Winthrop Circle",
          "Wood Island T Stop - Vienna St at Bennington St",
          "Yawkey Way at Boylston St."
         ],
         "lat": [
          42.40225486249333,
          42.39252848559259,
          42.344050152928006,
          42.364664017208405,
          42.36469190823482,
          42.364533625336314,
          42.38715672512121,
          42.380342024005834,
          42.288992105907894,
          42.38098017490246,
          42.38100143038052,
          42.38112284630097,
          42.34975289934975,
          42.367193597430756,
          42.370798244444444,
          42.37076140516856,
          42.36898771024153,
          42.383152941893314,
          42.39072647520841,
          42.267968796384615,
          42.28586340957447,
          42.39461581438889,
          42.34152809230042,
          42.37499304285927,
          42.37497659215716,
          42.41085494059825,
          42.34961339378661,
          42.380677970754554,
          42.36537598253322,
          42.295293433949155,
          42.39352343206846,
          42.39841057453335,
          42.39535179206797,
          0,
          45.505086,
          21.172516577801666,
          0,
          42.368956447389735,
          42.363672647830185,
          42.286011,
          42.29211827072834,
          42.2909394628,
          42.38514056789607,
          42.351246,
          42.375447178015904,
          42.33669446052051,
          42.39574306040899,
          42.396067609587384,
          42.348607,
          42.34887241959785,
          42.34922469338298,
          42.278811581565975,
          42.278740101034614,
          42.27266073139574,
          42.36376091046782,
          42.36242302578539,
          42.330716,
          42.33050327226583,
          42.35977,
          42.360314767258444,
          42.35523827346532,
          42.29245054216705,
          42.292706,
          42.362779628073426,
          42.36348088665573,
          42.38916569575,
          42.28558509330864,
          42.392334886395176,
          42.34621254186747,
          42.417584357766046,
          42.34804678514668,
          42.35038909677379,
          42.16722570361103,
          42.276004993783324,
          42.345733,
          42.34807412317439,
          42.34797400927885,
          42.35724896117868,
          42.39937521375813,
          42.32942909070065,
          42.32946325922549,
          42.303593351462865,
          42.39763676407143,
          42.350851,
          42.35556053608614,
          42.356103749233554,
          42.33736915370925,
          42.34496783328529,
          42.350851190710934,
          42.34373094998716,
          42.338206666316374,
          42.37870230285715,
          42.3299717738795,
          42.286349934711446,
          42.28616257948432,
          42.393342544246,
          42.3835770008748,
          42.3851847270274,
          42.385249,
          42.37590511440625,
          42.372057030308284,
          42.34734473177431,
          42.32587915139286,
          42.366054224885204,
          42.364042099081125,
          42.363134,
          42.274620269676994,
          42.27454525528758,
          42.285949955388595,
          42.317883871457575,
          42.31784,
          42.35874950737581,
          42.3398997632303,
          42.3475,
          42.34766641293738,
          42.373337769753185,
          42.35654861605283,
          42.336437,
          42.3364659770737,
          42.349673,
          42.36254854409333,
          42.36249062935135,
          42.30782961291965,
          42.347265,
          42.350989,
          42.352409,
          42.35224099863032,
          42.352583438377,
          42.3511288306835,
          42.3525760946701,
          42.35258512424818,
          42.350304065389906,
          42.350413,
          42.34972513509889,
          42.34881149889722,
          42.34472738409438,
          42.344695708662215,
          42.347474670420574,
          42.352409,
          42.35229153232826,
          42.348762,
          42.37535082902802,
          42.3740899498789,
          42.37178232118865,
          42.52809370743956,
          42.334073,
          42.33451425665979,
          42.35281105551123,
          42.34894857235593,
          42.348880662655304,
          42.36151000411256,
          42.36309800442013,
          42.35832686774098,
          42.396764,
          42.386067131326904,
          42.343080754813094,
          42.3428,
          42.39850326726126,
          42.39510395890235,
          42.39460545990106,
          42.40990711445968,
          42.36408749152162,
          42.39625503275498,
          42.410387478744994,
          42.33374420807107,
          42.332799,
          42.33289895997535,
          42.33332773339363,
          42.33376472623494,
          42.33286617810733,
          42.3742057309941,
          42.34580015253769,
          42.347241,
          42.272564329707144,
          42.36513389214088,
          42.37138982383288,
          42.37123508839305,
          42.37344614529613,
          42.37303604250424,
          42.361210167038294,
          42.361174,
          42.367267590725525,
          42.366940694596686,
          42.365154291982854,
          42.364116864671644,
          42.416939816399996,
          42.3980139014105,
          42.27970333021437,
          42.27091970723748,
          42.36643283436111,
          42.373984816144116,
          42.375348880221885,
          42.37430131617823,
          42.36504903464852,
          42.30069140270588,
          42.336077803386665,
          42.28294023286387,
          42.31243948702645,
          42.312120283566095,
          42.286290812561155,
          42.35570804631731,
          42.300806,
          42.360763591854514,
          42.36075761041193,
          42.36072999134525,
          42.36455361053197,
          42.350674874599996,
          42.350729083075635,
          42.356052,
          42.356052,
          42.35872530462163,
          42.356052,
          42.375603,
          42.371848,
          42.37411484895006,
          42.37401065384493,
          42.39007566015975,
          42.37869223996429,
          42.37978760623322,
          42.40340711293509,
          42.3964699048613,
          42.343670563636984,
          42.343697244,
          42.377672399919255,
          42.371894907223854,
          42.37199122972799,
          42.35147712893576,
          42.351356,
          42.35220139273013,
          42.343864,
          42.343926121868016,
          42.374403179595205,
          42.29705427914193,
          42.406273244890016,
          42.35219035145307,
          42.351775308922264,
          42.25566101428,
          42.335443731290226,
          42.33553091872319,
          42.360715994329574,
          42.28737985132506,
          42.2873611,
          42.340021,
          42.3401329027355,
          42.309639479118495,
          42.33018882517935,
          42.33023264684929,
          42.34067080775818,
          42.344698116472344,
          42.340799,
          42.36821893727883,
          42.35152681582616,
          42.351699772288214,
          42.34931820084889,
          42.350933885768995,
          42.34027479525252,
          42.3402177416592,
          42.34586197275595,
          42.349901988444195,
          42.349259358695036,
          42.34833544015147,
          42.348368023549895,
          42.35188899597154,
          42.52013425133333,
          42.39413979788295,
          42.392576326237034,
          42.39067758890493,
          42.3511,
          42.3482032222746,
          42.36061783577741,
          42.360267183666544,
          42.34813115687983,
          42.35119007129266,
          42.373696316650005,
          42.38358229708658,
          42.38336671610269,
          42.341598,
          42.34157435806875,
          42.37221614157118,
          42.34989129812991,
          42.38335607834595,
          42.38825856462561,
          42.38672694388501,
          42.36280203828943,
          42.36368816798291,
          42.362811,
          42.269943560079774,
          42.278811581565975,
          42.30907745533919,
          42.309054,
          42.32770449701506,
          42.33238822975015,
          42.33243224033003,
          42.3324565005,
          42.36182907248796,
          42.388970261941594,
          42.3895708129945,
          42.35092455000674,
          42.39715836813683,
          42.336448,
          42.379199448016294,
          42.34934640200901,
          42.349205689770685,
          42.5200529690346,
          42.397920596056174,
          42.34408676107188,
          42.29172342168538,
          42.344023,
          42.328654,
          42.32983416177566,
          42.329012485484036,
          42.325244699920454,
          42.32070388938409,
          42.320561,
          42.369562869377,
          42.36995259521789,
          42.36955489226076,
          42.387639497506115,
          42.38712394161381,
          42.3790798200152,
          42.378965,
          42.31583754378598,
          42.315692,
          42.36987286398186,
          42.403151287,
          42.3893597979253,
          42.39345974688668,
          42.516230080666666,
          42.40718635852142,
          42.407177064145394,
          42.35333162623332,
          42.360613,
          42.35281365272803,
          42.3528611,
          42.35484,
          42.33355037583055,
          42.41082664265871,
          42.299738840387924,
          42.334329882220636,
          42.392994633369895,
          42.30093822519285,
          42.506382795,
          42.33923400420524,
          42.391054579370234,
          42.390772354425,
          42.304312580739726,
          42.30332093784898,
          42.309938385270335,
          42.309796,
          42.309796,
          42.303469,
          42.303342234772565,
          42.355402,
          42.383232699463775,
          42.364264955636365,
          42.36631082198359,
          42.36293892692219,
          42.28283450282749,
          42.31884086006097,
          42.38658143034771,
          42.41421244559628,
          42.38239085257931,
          42.520965046875,
          42.373076999651246,
          42.37080974807252,
          42.360102768626184,
          42.42517794733333,
          42.38293478944228,
          42.40814104968876,
          42.391640597247154,
          42.310579,
          42.310646560102185,
          42.308035,
          42.307948560119634,
          42.39638400852974,
          42.3963838795032,
          42.337171,
          42.33742972609241,
          42.42334037320018,
          42.415284944237705,
          42.30989704843947,
          42.34506301101974,
          42.41069535756245,
          42.349481730236676,
          42.3493102175903,
          42.33917209779262,
          42.345206649409135,
          42.34510857037852,
          42.34951146911415,
          42.34956188545412,
          42.37198174585051,
          42.37834803866301,
          42.361667,
          42.37332871304629,
          42.37322508781951,
          42.34440796763922,
          42.36601512640521,
          42.36599406030789,
          42.36795547160828,
          42.37789416766084,
          42.376369,
          42.37635769517898,
          42.365064,
          42.36659418517415,
          42.38032564361779,
          42.36912158683593,
          42.363796,
          42.52236838225,
          42.37695778368223,
          42.377022,
          42.32797270205962,
          42.36576403417036,
          42.42495175201429,
          42.324497869162364,
          42.353513609001546,
          42.36029677837472,
          42.38000476725359,
          42.4071153101818,
          42.336594476928674,
          42.33651909304393,
          42.381655652015056,
          42.381650612901176,
          42.26296140435424,
          42.296081535443605,
          42.256855072262496,
          42.32161987377834,
          42.32172278066717,
          42.320998,
          42.34490793768739,
          42.3448872826985,
          42.345901,
          42.345829732553554,
          42.374295034576654,
          42.374035,
          42.37959732231475,
          42.36378429813249,
          42.363732,
          42.320494,
          42.34659180221452,
          42.32035697681513,
          42.313156,
          42.323086729069445,
          42.32277967706787,
          42.306020737079294,
          42.321251,
          42.3446808403874,
          42.36904878132444,
          42.358155,
          42.40591117728178,
          42.36346802386297,
          42.36229324945554,
          42.348706,
          42.348687655343994,
          42.349233019391306,
          42.36949488795512,
          42.42932384345291,
          42.293745922179546,
          0,
          42.36341670680769,
          42.511431086417794,
          42.40418958483361,
          42.34369960157298,
          42.343912,
          42.33056754349296,
          42.347417708093495,
          42.344792,
          42.36986448474432,
          42.370677,
          42.33743187866093,
          42.38642124085316,
          42.36563293607377,
          42.363871,
          42.36387873241616,
          42.35767031701004,
          42.39773864737538,
          42.409307279534836,
          42.41801632305635,
          42.338629,
          42.33853313197271,
          42.35731834332409,
          42.35704216772551,
          42.36057651506007,
          42.36104394394991,
          42.35967483792334,
          42.36224522199357,
          42.355585034777484,
          42.358356940693255,
          42.32145973266666,
          0,
          0,
          42.39779885596605,
          42.37564802545674,
          42.380833726576924,
          42.41002860270173,
          42.41166499124787,
          42.37408874647619,
          42.37712670824194,
          42.37486462217879,
          42.374917,
          42.405140786331756,
          42.362929440283224,
          42.42610188106999,
          42.42647656541356,
          42.34013510461872,
          42.380724364921235,
          42.35480179069945,
          42.32425565924519,
          42.34137327986939,
          42.36118359206481,
          42.40133636549862,
          42.414202066000925,
          42.40734805494542,
          42.3911217293098,
          42.39138548863825,
          42.326599,
          42.3634941937277,
          42.34746889220006,
          42.34085698514324,
          42.2775935559918,
          42.2773889,
          42.26795948871795,
          42.267902,
          42.3688385713652,
          42.368791669724295,
          42.3677883017926,
          42.35892,
          42.51796612805197,
          42.31879222794483,
          42.318703,
          42.4175922053598,
          42.38053143534693,
          42.380584,
          42.37916130425,
          42.41649188978955,
          42.41649057463282,
          42.33101989383041,
          42.41862051334801,
          42.35171003478849,
          42.35147849233603,
          0,
          42.36351513326837,
          42.372248800541406,
          42.28068377459405,
          42.28075382961448,
          42.27874587133813,
          42.3748503569667,
          42.325333,
          42.28475127352833,
          42.35561796820208,
          42.336498688836706,
          42.367810741423625,
          42.4150404614,
          42.36444157139109,
          42.316881211584935,
          42.36567881158087,
          42.365845884714886,
          42.35733245307743,
          42.357402,
          42.350413,
          42.34872066200448,
          42.348820236479504,
          42.32663841604125,
          42.322135383548705,
          42.33621554545125,
          42.36764444954587,
          42.36075037125691,
          42.40903424072766,
          42.52991006970357,
          42.29118179853643,
          42.341814,
          42.34182735756506,
          42.34717464498734,
          42.403441193346154,
          42.42066964278908,
          42.4237085527543,
          42.441956,
          42.33327787454039,
          42.33001969826339,
          42.37078286782961,
          42.35057021695277,
          42.35048161669747,
          42.35770516222361,
          42.35848921597053,
          42.33396473194241,
          42.333919727205775,
          42.36224601115304,
          42.366002691651914,
          42.361767586010856,
          42.38676404682054,
          42.40730487181832,
          42.40449,
          42.40432766677869,
          42.352261,
          42.35227095639385,
          42.347250977527835,
          42.35182806892068,
          42.35186,
          42.35183447044169,
          42.35186,
          42.29438758711368,
          42.35663249525424,
          42.33835016251426,
          42.38815705419525,
          42.35669991766823,
          42.37928177399161,
          42.35017687068048,
          42.36484274795217,
          42.36489045541549,
          42.42028856709275,
          42.27976793525,
          42.38802166737824,
          42.364190873525686,
          42.3561978829099,
          42.356755,
          42.40072156724928,
          42.346540145755874,
          42.34623951999206,
          42.345959,
          42.35475067282677,
          42.41605997070151,
          42.38732881774097,
          42.414003539519996,
          42.40744837251428,
          42.40805150717699,
          42.39281570784254,
          42.348278385426255,
          42.33668318271353,
          42.36641474069007,
          42.29116876635965,
          42.2870277183087,
          42.287072,
          42.28618171299058,
          42.2861532,
          42.26462242624706,
          42.357143,
          42.3571595994797,
          42.331184,
          42.33127098383601,
          42.317963,
          42.31794791041138,
          42.335911,
          42.33632584072645,
          42.37928672922222,
          42.31775998649898,
          42.317642,
          42.32749732101982,
          42.521864357034154,
          42.5240142051,
          42.52330190354939,
          42.50192322190236,
          42.503329114,
          42.534702039944214,
          42.310599,
          42.31055756228939,
          42.353134397180334,
          42.348833,
          42.348823182610516,
          42.35133567170739,
          42.351205,
          42.36860524248197,
          42.36857845259576,
          42.34483165065714,
          42.346709885699696,
          42.33591965572736,
          42.34839527783707,
          42.346647,
          42.293026602165895,
          42.518344580749655,
          42.35775309465199,
          42.35772009935128,
          42.34961063373046,
          42.39224063082699,
          42.36433480433638,
          42.38685517426427,
          42.3916117638484,
          42.38617257248326,
          42.390447885693995,
          42.39082,
          42.335694487017605,
          42.335741,
          42.341343119717976,
          42.35215800140755,
          42.352175,
          42.378308459147384,
          42.2775114244852,
          42.34626917129085,
          42.333290372978674,
          42.363145661087565,
          42.363608659514476,
          42.36360637488571,
          42.344259157530125,
          42.4280947642,
          42.316993778222475,
          42.34956746398073,
          42.35091903195364,
          42.35049577222388,
          42.351146,
          42.384278906089634,
          42.394002,
          42.383613266405405,
          42.40835641616515,
          42.35817358780431,
          42.3597163826375,
          42.352840501883996,
          42.414705,
          42.41467080493814,
          42.41249345291946,
          42.320113035913806,
          42.365942,
          42.366222,
          42.365911566628824,
          42.294552075676464,
          42.2945833,
          42.29219641666469,
          42.33146986125137,
          42.40088868625293,
          42.402763,
          0,
          42.31934893992498,
          42.37080835391403,
          42.37078454600501,
          42.355596,
          42.34477178968369,
          42.34699349775046,
          42.286239968729795,
          42.286251,
          42.3653479678236,
          42.400158386498845,
          42.341332,
          42.354979,
          42.3590637510276,
          42.34542234072579,
          42.356740145270614,
          42.35668334969929,
          42.338565402661224,
          42.33884970690809,
          42.34252366662133,
          42.35498785859246,
          42.345392,
          42.35904538748718,
          42.34385331651441,
          42.39827360273118,
          42.25227758766667,
          42.401673921187005,
          42.3142053,
          42.35343242307388,
          42.353334,
          42.379607403224114,
          42.38006766091195,
          42.380078,
          42.377339037839704,
          42.32962564375,
          42.32956868185623,
          42.36277675261879,
          42.3123062745704,
          42.314212,
          42.317355554234986,
          42.31756858003556,
          42.317225,
          42.31884382360106,
          42.318697341722434,
          42.31750891943043,
          42.317363735424394,
          42.31876268872896,
          42.36466294582862,
          42.38531970810896,
          42.383928224564585,
          42.37241914677806,
          42.486279909765706,
          42.339062858448855,
          42.33603115939922,
          42.316873,
          42.31216549438149,
          42.32404752233025,
          42.38645499610106,
          42.344302453606716,
          42.371840355462076,
          42.4093300667225,
          42.40933003336124,
          42.339846701760514,
          42.33880090029018,
          42.338254270769454,
          42.38096702327382,
          42.29909575296716,
          42.298268351862504,
          42.34902483065004,
          42.35395542296015,
          42.28076110111089,
          42.34295949117146,
          42.3429444,
          42.28200829255818,
          42.339096254230995,
          42.33507811523034,
          42.33293483592964,
          42.381728805534905,
          42.38172115782515,
          42.33623040082051,
          42.34292626505783,
          42.33847846511044,
          42.29033260734273,
          42.290333,
          42.355092452290215,
          42.340360038437076,
          42.351509114564685,
          42.27725208870408,
          42.34158367688393,
          42.3348756,
          42.33855789641895,
          42.341522,
          42.351543104723206,
          42.35160874867575,
          42.36756485689693,
          42.365234759292456,
          42.36288130789131,
          42.354133382295416,
          42.36760235877431,
          42.402389328421876,
          42.337596,
          42.33755795164175,
          42.3391085,
          42.335693,
          42.36588438153013,
          42.42064763253955,
          42.34959202053649,
          42.34947178098653,
          42.36317116277857,
          42.361583230675,
          42.36183202945475,
          42.332831265071206,
          42.30661841035493,
          42.38560792108762,
          42.4213416005,
          42.38011046733333,
          42.3446934201937
         ],
         "legendgroup": "",
         "lon": [
          -71.01958249814,
          -71.15065540181482,
          -71.11509270138382,
          -71.17569393479538,
          -71.17548889216353,
          -71.12841569111936,
          -71.07598850430303,
          -71.10888210156301,
          -71.09503292546053,
          -71.10402624849475,
          -71.10402522613185,
          -71.10410027224134,
          -71.04895907992118,
          -71.08903686274834,
          -71.104425746,
          -71.10435803547053,
          -71.08012997205749,
          -71.10584797815882,
          -71.14402790014393,
          -71.11917143439231,
          -71.10957008436169,
          -71.03080434277778,
          -71.0401671183424,
          -71.14861385183586,
          -71.14863030630659,
          -71.06783721933562,
          -71.1039428329326,
          -71.15407805831764,
          -71.0802443442585,
          -71.04715765303389,
          -71.14381701013693,
          -71.02401391037856,
          -71.14420732686013,
          0,
          -73.566921,
          -35.54832458496094,
          0,
          -71.11002266674326,
          -71.15180048909434,
          -71.054689,
          -71.05739586204669,
          -71.05678005186668,
          -71.0150297555311,
          -71.115639,
          -71.03151336641405,
          -71.06897579059681,
          -71.14273801414025,
          -71.1393092371483,
          -71.13401,
          -71.13334982658216,
          -71.13275302578586,
          -71.11687703062671,
          -71.11689808637502,
          -71.11981512660952,
          -71.08753637243757,
          -71.08825206172827,
          -71.057044,
          -71.05695905702396,
          -71.051601,
          -71.0507385483899,
          -71.05818142666185,
          -71.12073360383529,
          -71.121145,
          -71.15774410935371,
          -71.16421846158063,
          -71.010400504125,
          -71.06427628896708,
          -71.07746782850933,
          -71.02920565522892,
          -71.12605027629584,
          -71.24766856769514,
          -71.10820729962701,
          -70.90555788913527,
          -71.03924991133962,
          -71.100694,
          -71.07657015323639,
          -71.07657413657539,
          -71.18619192909624,
          -71.11115412451824,
          -71.09008509079948,
          -71.09015820552486,
          -71.05426695412797,
          -70.99306004878572,
          -71.089886,
          -71.07283019583384,
          -71.06984343127911,
          -71.14485977232107,
          -71.11040176903771,
          -71.08984944351498,
          -71.11614107161584,
          -71.13894464713842,
          -71.10689356517904,
          -71.20673841772202,
          -71.13682395509944,
          -71.14643187443367,
          -71.03323858345075,
          -71.0161162295476,
          -71.01060315128578,
          -71.010601,
          -71.03597535209376,
          -71.08999091162177,
          -71.1001680795016,
          -71.04913555285715,
          -71.08635854501775,
          -71.06924140200792,
          -71.067499,
          -71.09371314104256,
          -71.09372016051566,
          -71.09111933682901,
          -71.0779596849907,
          -71.07796,
          -71.05783099859677,
          -71.1670965606743,
          -71.0441,
          -71.04534567622578,
          -71.04095821080519,
          -71.1416929425453,
          -71.073089,
          -71.07319675259792,
          -71.077303,
          -71.0573735833168,
          -71.05741626338288,
          -71.06515880282704,
          -71.088088,
          -71.073644,
          -71.062679,
          -71.06956601982192,
          -71.06766249993596,
          -71.07343294041024,
          -71.06764405041758,
          -71.06770288511657,
          -71.0776193567553,
          -71.07655,
          -71.07926793380095,
          -71.08236259250768,
          -71.09697504898661,
          -71.09723791480063,
          -71.08687727407485,
          -71.062679,
          -71.0692238937149,
          -71.082383,
          -71.09112623482929,
          -71.03277796251713,
          -71.0722598061875,
          -70.88961597150123,
          -71.105221,
          -71.10450553100267,
          -71.1296732668983,
          -71.15027189254761,
          -71.15004349905679,
          -71.13769386667217,
          -71.0831049235477,
          -71.05467610654537,
          -71.102376,
          -71.07827746278208,
          -71.05804423935345,
          -71.05751,
          -71.06368021096878,
          -71.09849507887252,
          -71.03078963987362,
          -71.13999580353287,
          -71.08754573671219,
          -71.06597602014017,
          -71.05260090218505,
          -71.12043644739371,
          -71.116205,
          -71.11627462881265,
          -71.11852390696185,
          -71.12046446660315,
          -71.11619834951601,
          -71.0691519465214,
          -71.10087702983479,
          -71.105301,
          -71.0629970129143,
          -71.20229034968503,
          -71.07643203215184,
          -71.09762183821903,
          -71.11107652181347,
          -71.0943732379373,
          -71.0653392627157,
          -71.065142,
          -71.0771048498029,
          -71.07653840493853,
          -71.06112345014375,
          -71.05971647707463,
          -71.0903152341,
          -71.03052693450397,
          -71.06020060979122,
          -71.0734046395346,
          -71.1056314934824,
          -71.03959428409759,
          -71.03937974899233,
          -71.03808671246952,
          -71.10292164394757,
          -71.12755039311764,
          -71.19382269398668,
          -71.15712102412576,
          -71.11419863117877,
          -71.11429806807791,
          -71.15346282813722,
          -71.18641011793643,
          -71.127436,
          -71.07134868949295,
          -71.07132909824031,
          -71.07086993168946,
          -71.19100391864777,
          -71.0670233134,
          -71.06686785092437,
          -71.069849,
          -71.069849,
          -71.07079532006537,
          -71.069849,
          -71.064608,
          -71.060292,
          -71.05510227040709,
          -71.0548335313797,
          -71.03874523791247,
          -71.05285581583333,
          -71.02744808866882,
          -71.04720325199034,
          -71.03994091540054,
          -71.1531590433436,
          -71.153277093,
          -71.08596016140062,
          -71.0731656844655,
          -71.07211311533504,
          -71.05940334262074,
          -71.059367,
          -71.06289039466284,
          -71.085918,
          -71.08599821778037,
          -71.11965373625378,
          -71.09181967483943,
          -71.13233789334348,
          -71.0760041699723,
          -71.07578207948174,
          -71.124280275228,
          -71.15055571104364,
          -71.15072786808014,
          -71.05549216030415,
          -71.07110727870472,
          -71.0711111,
          -71.100812,
          -71.1005994772276,
          -71.07283758504624,
          -71.05079386535655,
          -71.0505741463021,
          -71.08148023957116,
          -71.07657194855271,
          -71.081572,
          -71.05688210105704,
          -71.12128802207961,
          -71.11895647738137,
          -71.10020691472,
          -71.11426059383137,
          -71.1516540081715,
          -71.1517309399278,
          -71.14188124680952,
          -71.10388958470284,
          -71.13268762953706,
          -71.14000382283382,
          -71.13997621466297,
          -71.12375466573171,
          -70.90628359,
          -71.11153820333222,
          -71.1056554162069,
          -71.15386871569645,
          -71.0496,
          -71.0376513004303,
          -71.05760482529942,
          -71.05820392200106,
          -71.03774620741895,
          -71.04978177222449,
          -71.05839388229,
          -71.10847286540384,
          -71.10744912830384,
          -71.123338,
          -71.12323426284425,
          -71.156771110732,
          -71.07739740180872,
          -71.10744018657297,
          -71.11073624019697,
          -71.1099011248297,
          -71.05609631476145,
          -71.05747919336751,
          -71.056067,
          -71.09733234984155,
          -71.11687703062671,
          -71.11539398929528,
          -71.11543,
          -71.12516096289404,
          -71.05450271219195,
          -71.05467324926403,
          -71.054355581,
          -71.1080567315999,
          -71.1327982646875,
          -71.13915279884594,
          -71.07808907277712,
          -71.12316525009673,
          -71.023739,
          -71.02780707952888,
          -71.09734622444441,
          -71.09727063041646,
          -70.89147464820536,
          -71.14793105919077,
          -71.05746251664867,
          -71.06263665689578,
          -71.057054,
          -71.084198,
          -71.08378557314647,
          -71.084076184219,
          -71.07537860340341,
          -71.06217122116061,
          -71.06198,
          -71.03942692279814,
          -71.07017100223752,
          -71.03942014331899,
          -71.0831649351694,
          -71.0871148461607,
          -71.06869713815372,
          -71.068607,
          -71.09868441862328,
          -71.098634,
          -71.07383113587215,
          -70.99011550958824,
          -71.11670148551372,
          -71.07278162205056,
          -70.90552944573332,
          -71.0559218568351,
          -71.05553846406484,
          -71.04445832065156,
          -71.057452,
          -71.15995632766654,
          -71.1600278,
          -71.150226,
          -71.0248658570439,
          -71.05219954638414,
          -71.06070275499704,
          -71.08786050845136,
          -71.08102999411818,
          -71.1143338690047,
          -70.88690539933334,
          -71.09049948063365,
          -71.09042641683477,
          -71.08967796545001,
          -71.07938870155026,
          -71.07823236897217,
          -71.09239538854307,
          -71.092225,
          -71.092225,
          -71.085347,
          -71.08543854802166,
          -71.058087,
          -71.14289353299566,
          -71.18569739481819,
          -71.08858837884513,
          -71.08980418821845,
          -71.05469664506836,
          -71.04532545612287,
          -71.09454801190262,
          -71.04484110032001,
          -71.03020987990953,
          -70.910540922375,
          -71.08618451400821,
          -71.03576065289926,
          -71.06004862481676,
          -71.11034443866667,
          -71.12444235559569,
          -71.04290326134581,
          -71.08023985578693,
          -71.107341,
          -71.10728827617362,
          -71.081159,
          -71.08095910775958,
          -71.120038864862,
          -71.12010508775711,
          -71.102797,
          -71.10282866561155,
          -71.09124134791963,
          -71.05281608621414,
          -71.06022928208245,
          -71.03662731018422,
          -71.08136527885442,
          -71.06195677488908,
          -71.06210500001907,
          -71.06976989050962,
          -71.06362794675795,
          -71.06392078119825,
          -71.13021905819292,
          -71.1302706227616,
          -71.1217005726259,
          -71.11991231495958,
          -71.13802,
          -71.12101254718468,
          -71.11846810140521,
          -71.12476725080731,
          -71.09520256463654,
          -71.09516322612761,
          -71.12420910560327,
          -71.1168002313386,
          -71.114025,
          -71.11395169968469,
          -71.119233,
          -71.11418959767316,
          -71.12497373869131,
          -71.11697295574228,
          -71.129164,
          -70.89032695475001,
          -71.05672857768613,
          -71.056605,
          -71.11089706420898,
          -71.1353832663077,
          -71.09902697273809,
          -71.12137971140247,
          -71.05668455297251,
          -71.1283725512708,
          -71.07326729768899,
          -71.09628656802781,
          -71.09881913322694,
          -71.0989692435578,
          -71.13427250659493,
          -71.13426981498378,
          -71.12160124513731,
          -71.11596891555207,
          -71.12253308281251,
          -71.11000598909418,
          -71.1099298789532,
          -71.110833,
          -71.02873484354373,
          -71.03189005970167,
          -71.063187,
          -71.0633999354433,
          -71.10019049007121,
          -71.101427,
          -71.08644261367695,
          -71.12453900496376,
          -71.124565,
          -71.051122,
          -71.12823496413796,
          -71.05120877103643,
          -71.11414,
          -71.10012448459204,
          -71.09993845641995,
          -71.11570668620199,
          -71.116483,
          -71.09785348176956,
          -71.08643356105,
          -71.052163,
          -71.06037574356944,
          -71.08216584684875,
          -71.08527948073191,
          -71.097009,
          -71.096649899358,
          -71.09573920713044,
          -71.08580162566969,
          -71.05190705698213,
          -71.13651317467297,
          0,
          -71.10040010910963,
          -70.89184504606713,
          -71.14689244422189,
          -71.10246350828842,
          -71.102221,
          -71.19291908359858,
          -71.10018623750842,
          -71.044024,
          -71.07605573189772,
          -71.076529,
          -71.08237883924572,
          -71.1190944508638,
          -71.04022223345439,
          -71.050877,
          -71.0509409152099,
          -71.12849468213741,
          -71.1302584739081,
          -71.1490691926535,
          -71.09651553105253,
          -71.1065,
          -71.10667863878044,
          -71.1138260446798,
          -71.11374854466884,
          -71.08663092542109,
          -71.08548798817462,
          -71.10124575938411,
          -71.09109387162445,
          -71.10385381338112,
          -71.093200182202,
          -71.0912784329292,
          0,
          0,
          -71.10603130148755,
          -71.06472332960645,
          -71.07066134007275,
          -71.06324350484101,
          -71.11041464097222,
          -71.0634154822381,
          -71.06647052900807,
          -71.06391552175027,
          -71.063829,
          -71.06085372524771,
          -71.09150634653767,
          -71.07313856519688,
          -71.0639350816682,
          -71.1207270835089,
          -71.0391072324549,
          -71.15025043487549,
          -71.10192003528125,
          -71.08343902127395,
          -71.09651332551653,
          -71.13651739564833,
          -71.15051891694621,
          -71.14376968789549,
          -71.12246227384045,
          -71.12288117408751,
          -71.066498,
          -71.10034637845152,
          -71.08798664722241,
          -71.08145638684445,
          -71.0933146950164,
          -71.09325,
          -71.09363259042051,
          -71.093641,
          -71.03976666949166,
          -71.03981662543153,
          -71.0333629379529,
          -71.057629,
          -70.8956846248039,
          -71.05884999148462,
          -71.0589,
          -71.10795006963028,
          -71.06080252209247,
          -71.060875,
          -71.05776386146876,
          -71.14805318778352,
          -71.14813429053619,
          -71.0754217226462,
          -71.15754290720103,
          -71.07724916111692,
          -71.044162200742,
          0,
          -71.1116885697284,
          -71.07624739983417,
          -71.08607000546893,
          -71.08621831150231,
          -71.08032167779857,
          -71.1330359151049,
          -71.075354,
          -71.11860328521219,
          -71.07296309669367,
          -71.02372373036391,
          -71.07124609510733,
          -71.1389874052,
          -71.18091373646166,
          -71.0918988732452,
          -71.06440052809548,
          -71.06417588255105,
          -71.14671948583722,
          -71.147782,
          -71.07655,
          -71.08589693379594,
          -71.08585876526259,
          -71.06654725978183,
          -71.20621748335681,
          -71.20771071612837,
          -71.15627513969284,
          -71.20143071727314,
          -71.06721327805644,
          -70.90613840697205,
          -71.1176647878869,
          -71.090179,
          -71.09024560411561,
          -71.03575952237975,
          -71.06326445403846,
          -71.0721457999377,
          -71.06779078208109,
          -71.01468,
          -71.07517764150752,
          -71.08377061797125,
          -71.07654423225918,
          -71.16628983575315,
          -71.16636693499458,
          -71.10834949076317,
          -71.0615752187264,
          -71.1042645261804,
          -71.10446777203833,
          -71.08319084681581,
          -71.09127700958666,
          -71.08055772596074,
          -71.00610595344355,
          -70.99282493828817,
          -71.123413,
          -71.1230720466746,
          -71.123831,
          -71.12372270767844,
          -71.10530132741813,
          -71.06781138111728,
          -71.067688,
          -71.06799815151848,
          -71.067688,
          -71.07829944220731,
          -71.06240593032203,
          -71.09283348314892,
          -71.09588742256165,
          -71.05548860949568,
          -71.10344020624349,
          -71.04461107595337,
          -71.03493029790312,
          -71.0350424052376,
          -71.04429200356904,
          -71.04604641927777,
          -71.11905580459951,
          -71.02894077381761,
          -71.05520446924662,
          -71.055407,
          -71.11686819409684,
          -71.08053394249822,
          -71.0816178827256,
          -71.082578,
          -71.05333759783865,
          -71.15320461293945,
          -71.12765523339476,
          -70.98962657924,
          -71.01383699707999,
          -71.00893302812389,
          -71.12906429342702,
          -71.08044855314802,
          -71.11005938745822,
          -71.07663280152319,
          -71.06300895222854,
          -71.127817562,
          -71.127754,
          -71.12840402464587,
          -71.1283744,
          -71.11461873917058,
          -71.050699,
          -71.05088265114107,
          -71.095171,
          -71.0951026595435,
          -71.082254,
          -71.08246329331986,
          -71.088496,
          -71.0880257752328,
          -71.07144761533333,
          -71.05666747381595,
          -71.056664,
          -71.11084575115726,
          -70.8807177968626,
          -70.896877222,
          -70.89610929708375,
          -70.89491239164418,
          -70.891418292,
          -70.87021357072521,
          -71.053927,
          -71.05379675053858,
          -71.04815032499195,
          -71.041747,
          -71.04239245439479,
          -71.04431043313845,
          -71.043983,
          -71.09930185605663,
          -71.0992939264791,
          -71.06691169574286,
          -71.06601221935135,
          -71.08033834935895,
          -71.0656882753257,
          -71.066049,
          -71.06570216201612,
          -70.88942510204986,
          -71.10393404960632,
          -71.10384555482348,
          -71.10049466611862,
          -71.15039369032564,
          -71.1182557730425,
          -71.09816505553646,
          -71.09778346927824,
          -71.09596454570585,
          -71.10854632915483,
          -71.10942,
          -71.03881514654744,
          -71.03877,
          -71.07678950636284,
          -71.05580116096966,
          -71.055547,
          -71.04866689784255,
          -71.16339541170983,
          -71.10698071008379,
          -71.101291573304,
          -71.12506845409985,
          -71.06369106362806,
          -71.06367134534285,
          -71.05266466669659,
          -71.1263792813,
          -71.10423045255226,
          -71.0724759399897,
          -71.06631969940439,
          -71.06822454910449,
          -71.066289,
          -71.07514116082696,
          -71.120406,
          -71.0998664036054,
          -70.99806812870392,
          -71.05224592820902,
          -71.05259561566666,
          -71.05682746558587,
          -71.152377,
          -71.15233738263917,
          -71.05841069345841,
          -71.05343587133542,
          -71.060515,
          -71.059914,
          -71.06452122582944,
          -71.08701481896219,
          -71.087111,
          -71.07797926158578,
          -71.12714824334184,
          -71.1258884684372,
          -71.126908,
          0,
          -71.09640417888704,
          -71.04428095768779,
          -71.04426160454749,
          -71.07278,
          -71.04416907561443,
          -71.14546323630718,
          -71.07941480263729,
          -71.079463,
          -71.08277978671498,
          -71.14450613775037,
          -71.076847,
          -71.063348,
          -71.05997562677325,
          -71.06959744145468,
          -71.06165647572458,
          -71.06166645884514,
          -71.0816119526096,
          -71.08140613892829,
          -71.0742044569742,
          -71.06352234295139,
          -71.069616,
          -71.05982502410257,
          -71.06219095589833,
          -71.1075180596129,
          -71.11838817333334,
          -71.10599544674801,
          -71.04089055,
          -71.13711766968586,
          -71.137313,
          -71.09516239448266,
          -71.09008605062265,
          -71.090098,
          -71.0944925446679,
          -71.19363947882142,
          -71.19367271661758,
          -71.100023205997,
          -71.03666622454426,
          -71.04075950000001,
          -71.06496643291463,
          -71.06403708501603,
          -71.065421,
          -71.06975734233856,
          -71.0697814822197,
          -71.06416625906604,
          -71.06540450270518,
          -71.06978339984485,
          -71.05927403299467,
          -71.13774464214453,
          -71.13962350417751,
          -71.11297812650628,
          -70.90162993983492,
          -71.05144912996133,
          -71.04633250824065,
          -71.091955,
          -71.09634529773004,
          -71.08328608413889,
          -71.07541964272968,
          -71.07416065402364,
          -71.06047235405279,
          -71.06381878293178,
          -71.06381889146589,
          -71.13404478522814,
          -71.13693841014165,
          -71.13905482012342,
          -71.0872582560792,
          -71.07340246487624,
          -71.07305906012807,
          -71.16024094371235,
          -71.19934835783307,
          -71.13420916065799,
          -71.14116131555015,
          -71.1413333,
          -71.07148822917308,
          -71.13236050658088,
          -71.07907709440022,
          -71.08135898695028,
          -71.08371427705653,
          -71.08376650152422,
          -71.07758067013333,
          -71.06696523319935,
          -71.07402132628339,
          -71.07180358722535,
          -71.071806,
          -71.0611044434352,
          -71.07164679667318,
          -71.20756526231587,
          -71.06961271266668,
          -71.06889156045123,
          -71.0790969,
          -71.07410068623162,
          -71.068922,
          -71.04573011398315,
          -71.04585957978179,
          -71.18748876775328,
          -71.18576742337399,
          -71.19130976060869,
          -71.21382165700865,
          -71.1876547882398,
          -71.07573891588281,
          -71.096391,
          -71.09635905648162,
          -71.0514432,
          -71.045859,
          -71.06488519994933,
          -71.13345143166384,
          -71.22636812943763,
          -71.22000678911718,
          -71.13475675575714,
          -71.14504331324375,
          -71.1436789961469,
          -71.09221334352468,
          -71.107707386184,
          -71.11396192086718,
          -71.11753597058333,
          -71.02433284066666,
          -71.09768424088477
         ],
         "marker": {
          "color": "#636efa"
         },
         "mode": "markers",
         "name": "",
         "showlegend": false,
         "subplot": "mapbox",
         "type": "scattermapbox"
        }
       ],
       "layout": {
        "legend": {
         "tracegroupgap": 0
        },
        "mapbox": {
         "center": {
          "lat": 41.979471209991644,
          "lon": -70.44968604817227
         },
         "domain": {
          "x": [
           0,
           1
          ],
          "y": [
           0,
           1
          ]
         },
         "style": "open-street-map",
         "zoom": 8
        },
        "margin": {
         "t": 60
        },
        "template": {
         "data": {
          "bar": [
           {
            "error_x": {
             "color": "#2a3f5f"
            },
            "error_y": {
             "color": "#2a3f5f"
            },
            "marker": {
             "line": {
              "color": "#E5ECF6",
              "width": 0.5
             },
             "pattern": {
              "fillmode": "overlay",
              "size": 10,
              "solidity": 0.2
             }
            },
            "type": "bar"
           }
          ],
          "barpolar": [
           {
            "marker": {
             "line": {
              "color": "#E5ECF6",
              "width": 0.5
             },
             "pattern": {
              "fillmode": "overlay",
              "size": 10,
              "solidity": 0.2
             }
            },
            "type": "barpolar"
           }
          ],
          "carpet": [
           {
            "aaxis": {
             "endlinecolor": "#2a3f5f",
             "gridcolor": "white",
             "linecolor": "white",
             "minorgridcolor": "white",
             "startlinecolor": "#2a3f5f"
            },
            "baxis": {
             "endlinecolor": "#2a3f5f",
             "gridcolor": "white",
             "linecolor": "white",
             "minorgridcolor": "white",
             "startlinecolor": "#2a3f5f"
            },
            "type": "carpet"
           }
          ],
          "choropleth": [
           {
            "colorbar": {
             "outlinewidth": 0,
             "ticks": ""
            },
            "type": "choropleth"
           }
          ],
          "contour": [
           {
            "colorbar": {
             "outlinewidth": 0,
             "ticks": ""
            },
            "colorscale": [
             [
              0,
              "#0d0887"
             ],
             [
              0.1111111111111111,
              "#46039f"
             ],
             [
              0.2222222222222222,
              "#7201a8"
             ],
             [
              0.3333333333333333,
              "#9c179e"
             ],
             [
              0.4444444444444444,
              "#bd3786"
             ],
             [
              0.5555555555555556,
              "#d8576b"
             ],
             [
              0.6666666666666666,
              "#ed7953"
             ],
             [
              0.7777777777777778,
              "#fb9f3a"
             ],
             [
              0.8888888888888888,
              "#fdca26"
             ],
             [
              1,
              "#f0f921"
             ]
            ],
            "type": "contour"
           }
          ],
          "contourcarpet": [
           {
            "colorbar": {
             "outlinewidth": 0,
             "ticks": ""
            },
            "type": "contourcarpet"
           }
          ],
          "heatmap": [
           {
            "colorbar": {
             "outlinewidth": 0,
             "ticks": ""
            },
            "colorscale": [
             [
              0,
              "#0d0887"
             ],
             [
              0.1111111111111111,
              "#46039f"
             ],
             [
              0.2222222222222222,
              "#7201a8"
             ],
             [
              0.3333333333333333,
              "#9c179e"
             ],
             [
              0.4444444444444444,
              "#bd3786"
             ],
             [
              0.5555555555555556,
              "#d8576b"
             ],
             [
              0.6666666666666666,
              "#ed7953"
             ],
             [
              0.7777777777777778,
              "#fb9f3a"
             ],
             [
              0.8888888888888888,
              "#fdca26"
             ],
             [
              1,
              "#f0f921"
             ]
            ],
            "type": "heatmap"
           }
          ],
          "heatmapgl": [
           {
            "colorbar": {
             "outlinewidth": 0,
             "ticks": ""
            },
            "colorscale": [
             [
              0,
              "#0d0887"
             ],
             [
              0.1111111111111111,
              "#46039f"
             ],
             [
              0.2222222222222222,
              "#7201a8"
             ],
             [
              0.3333333333333333,
              "#9c179e"
             ],
             [
              0.4444444444444444,
              "#bd3786"
             ],
             [
              0.5555555555555556,
              "#d8576b"
             ],
             [
              0.6666666666666666,
              "#ed7953"
             ],
             [
              0.7777777777777778,
              "#fb9f3a"
             ],
             [
              0.8888888888888888,
              "#fdca26"
             ],
             [
              1,
              "#f0f921"
             ]
            ],
            "type": "heatmapgl"
           }
          ],
          "histogram": [
           {
            "marker": {
             "pattern": {
              "fillmode": "overlay",
              "size": 10,
              "solidity": 0.2
             }
            },
            "type": "histogram"
           }
          ],
          "histogram2d": [
           {
            "colorbar": {
             "outlinewidth": 0,
             "ticks": ""
            },
            "colorscale": [
             [
              0,
              "#0d0887"
             ],
             [
              0.1111111111111111,
              "#46039f"
             ],
             [
              0.2222222222222222,
              "#7201a8"
             ],
             [
              0.3333333333333333,
              "#9c179e"
             ],
             [
              0.4444444444444444,
              "#bd3786"
             ],
             [
              0.5555555555555556,
              "#d8576b"
             ],
             [
              0.6666666666666666,
              "#ed7953"
             ],
             [
              0.7777777777777778,
              "#fb9f3a"
             ],
             [
              0.8888888888888888,
              "#fdca26"
             ],
             [
              1,
              "#f0f921"
             ]
            ],
            "type": "histogram2d"
           }
          ],
          "histogram2dcontour": [
           {
            "colorbar": {
             "outlinewidth": 0,
             "ticks": ""
            },
            "colorscale": [
             [
              0,
              "#0d0887"
             ],
             [
              0.1111111111111111,
              "#46039f"
             ],
             [
              0.2222222222222222,
              "#7201a8"
             ],
             [
              0.3333333333333333,
              "#9c179e"
             ],
             [
              0.4444444444444444,
              "#bd3786"
             ],
             [
              0.5555555555555556,
              "#d8576b"
             ],
             [
              0.6666666666666666,
              "#ed7953"
             ],
             [
              0.7777777777777778,
              "#fb9f3a"
             ],
             [
              0.8888888888888888,
              "#fdca26"
             ],
             [
              1,
              "#f0f921"
             ]
            ],
            "type": "histogram2dcontour"
           }
          ],
          "mesh3d": [
           {
            "colorbar": {
             "outlinewidth": 0,
             "ticks": ""
            },
            "type": "mesh3d"
           }
          ],
          "parcoords": [
           {
            "line": {
             "colorbar": {
              "outlinewidth": 0,
              "ticks": ""
             }
            },
            "type": "parcoords"
           }
          ],
          "pie": [
           {
            "automargin": true,
            "type": "pie"
           }
          ],
          "scatter": [
           {
            "fillpattern": {
             "fillmode": "overlay",
             "size": 10,
             "solidity": 0.2
            },
            "type": "scatter"
           }
          ],
          "scatter3d": [
           {
            "line": {
             "colorbar": {
              "outlinewidth": 0,
              "ticks": ""
             }
            },
            "marker": {
             "colorbar": {
              "outlinewidth": 0,
              "ticks": ""
             }
            },
            "type": "scatter3d"
           }
          ],
          "scattercarpet": [
           {
            "marker": {
             "colorbar": {
              "outlinewidth": 0,
              "ticks": ""
             }
            },
            "type": "scattercarpet"
           }
          ],
          "scattergeo": [
           {
            "marker": {
             "colorbar": {
              "outlinewidth": 0,
              "ticks": ""
             }
            },
            "type": "scattergeo"
           }
          ],
          "scattergl": [
           {
            "marker": {
             "colorbar": {
              "outlinewidth": 0,
              "ticks": ""
             }
            },
            "type": "scattergl"
           }
          ],
          "scattermapbox": [
           {
            "marker": {
             "colorbar": {
              "outlinewidth": 0,
              "ticks": ""
             }
            },
            "type": "scattermapbox"
           }
          ],
          "scatterpolar": [
           {
            "marker": {
             "colorbar": {
              "outlinewidth": 0,
              "ticks": ""
             }
            },
            "type": "scatterpolar"
           }
          ],
          "scatterpolargl": [
           {
            "marker": {
             "colorbar": {
              "outlinewidth": 0,
              "ticks": ""
             }
            },
            "type": "scatterpolargl"
           }
          ],
          "scatterternary": [
           {
            "marker": {
             "colorbar": {
              "outlinewidth": 0,
              "ticks": ""
             }
            },
            "type": "scatterternary"
           }
          ],
          "surface": [
           {
            "colorbar": {
             "outlinewidth": 0,
             "ticks": ""
            },
            "colorscale": [
             [
              0,
              "#0d0887"
             ],
             [
              0.1111111111111111,
              "#46039f"
             ],
             [
              0.2222222222222222,
              "#7201a8"
             ],
             [
              0.3333333333333333,
              "#9c179e"
             ],
             [
              0.4444444444444444,
              "#bd3786"
             ],
             [
              0.5555555555555556,
              "#d8576b"
             ],
             [
              0.6666666666666666,
              "#ed7953"
             ],
             [
              0.7777777777777778,
              "#fb9f3a"
             ],
             [
              0.8888888888888888,
              "#fdca26"
             ],
             [
              1,
              "#f0f921"
             ]
            ],
            "type": "surface"
           }
          ],
          "table": [
           {
            "cells": {
             "fill": {
              "color": "#EBF0F8"
             },
             "line": {
              "color": "white"
             }
            },
            "header": {
             "fill": {
              "color": "#C8D4E3"
             },
             "line": {
              "color": "white"
             }
            },
            "type": "table"
           }
          ]
         },
         "layout": {
          "annotationdefaults": {
           "arrowcolor": "#2a3f5f",
           "arrowhead": 0,
           "arrowwidth": 1
          },
          "autotypenumbers": "strict",
          "coloraxis": {
           "colorbar": {
            "outlinewidth": 0,
            "ticks": ""
           }
          },
          "colorscale": {
           "diverging": [
            [
             0,
             "#8e0152"
            ],
            [
             0.1,
             "#c51b7d"
            ],
            [
             0.2,
             "#de77ae"
            ],
            [
             0.3,
             "#f1b6da"
            ],
            [
             0.4,
             "#fde0ef"
            ],
            [
             0.5,
             "#f7f7f7"
            ],
            [
             0.6,
             "#e6f5d0"
            ],
            [
             0.7,
             "#b8e186"
            ],
            [
             0.8,
             "#7fbc41"
            ],
            [
             0.9,
             "#4d9221"
            ],
            [
             1,
             "#276419"
            ]
           ],
           "sequential": [
            [
             0,
             "#0d0887"
            ],
            [
             0.1111111111111111,
             "#46039f"
            ],
            [
             0.2222222222222222,
             "#7201a8"
            ],
            [
             0.3333333333333333,
             "#9c179e"
            ],
            [
             0.4444444444444444,
             "#bd3786"
            ],
            [
             0.5555555555555556,
             "#d8576b"
            ],
            [
             0.6666666666666666,
             "#ed7953"
            ],
            [
             0.7777777777777778,
             "#fb9f3a"
            ],
            [
             0.8888888888888888,
             "#fdca26"
            ],
            [
             1,
             "#f0f921"
            ]
           ],
           "sequentialminus": [
            [
             0,
             "#0d0887"
            ],
            [
             0.1111111111111111,
             "#46039f"
            ],
            [
             0.2222222222222222,
             "#7201a8"
            ],
            [
             0.3333333333333333,
             "#9c179e"
            ],
            [
             0.4444444444444444,
             "#bd3786"
            ],
            [
             0.5555555555555556,
             "#d8576b"
            ],
            [
             0.6666666666666666,
             "#ed7953"
            ],
            [
             0.7777777777777778,
             "#fb9f3a"
            ],
            [
             0.8888888888888888,
             "#fdca26"
            ],
            [
             1,
             "#f0f921"
            ]
           ]
          },
          "colorway": [
           "#636efa",
           "#EF553B",
           "#00cc96",
           "#ab63fa",
           "#FFA15A",
           "#19d3f3",
           "#FF6692",
           "#B6E880",
           "#FF97FF",
           "#FECB52"
          ],
          "font": {
           "color": "#2a3f5f"
          },
          "geo": {
           "bgcolor": "white",
           "lakecolor": "white",
           "landcolor": "#E5ECF6",
           "showlakes": true,
           "showland": true,
           "subunitcolor": "white"
          },
          "hoverlabel": {
           "align": "left"
          },
          "hovermode": "closest",
          "mapbox": {
           "style": "light"
          },
          "paper_bgcolor": "white",
          "plot_bgcolor": "#E5ECF6",
          "polar": {
           "angularaxis": {
            "gridcolor": "white",
            "linecolor": "white",
            "ticks": ""
           },
           "bgcolor": "#E5ECF6",
           "radialaxis": {
            "gridcolor": "white",
            "linecolor": "white",
            "ticks": ""
           }
          },
          "scene": {
           "xaxis": {
            "backgroundcolor": "#E5ECF6",
            "gridcolor": "white",
            "gridwidth": 2,
            "linecolor": "white",
            "showbackground": true,
            "ticks": "",
            "zerolinecolor": "white"
           },
           "yaxis": {
            "backgroundcolor": "#E5ECF6",
            "gridcolor": "white",
            "gridwidth": 2,
            "linecolor": "white",
            "showbackground": true,
            "ticks": "",
            "zerolinecolor": "white"
           },
           "zaxis": {
            "backgroundcolor": "#E5ECF6",
            "gridcolor": "white",
            "gridwidth": 2,
            "linecolor": "white",
            "showbackground": true,
            "ticks": "",
            "zerolinecolor": "white"
           }
          },
          "shapedefaults": {
           "line": {
            "color": "#2a3f5f"
           }
          },
          "ternary": {
           "aaxis": {
            "gridcolor": "white",
            "linecolor": "white",
            "ticks": ""
           },
           "baxis": {
            "gridcolor": "white",
            "linecolor": "white",
            "ticks": ""
           },
           "bgcolor": "#E5ECF6",
           "caxis": {
            "gridcolor": "white",
            "linecolor": "white",
            "ticks": ""
           }
          },
          "title": {
           "x": 0.05
          },
          "xaxis": {
           "automargin": true,
           "gridcolor": "white",
           "linecolor": "white",
           "ticks": "",
           "title": {
            "standoff": 15
           },
           "zerolinecolor": "white",
           "zerolinewidth": 2
          },
          "yaxis": {
           "automargin": true,
           "gridcolor": "white",
           "linecolor": "white",
           "ticks": "",
           "title": {
            "standoff": 15
           },
           "zerolinecolor": "white",
           "zerolinewidth": 2
          }
         }
        }
       }
      }
     },
     "metadata": {},
     "output_type": "display_data"
    }
   ],
   "source": [
    "import plotly.express as px\n",
    "\n",
    "fig = px.scatter_mapbox(\n",
    "    station_master,\n",
    "    lat = 'lat',\n",
    "    lon = 'long',\n",
    "    hover_name = 'station_name'\n",
    ")\n",
    "fig.update_layout(mapbox_style=\"open-street-map\")\n",
    "fig.show()"
   ]
  },
  {
   "cell_type": "markdown",
   "id": "4c3f87e0",
   "metadata": {},
   "source": [
    "yay! it seems to match the blue bikes system map when i log into my app (obviously some of these stations discontinued but ok)\n",
    "\n",
    "then i am first going to get all the pre 2015 ones into a dataframe and merge with the post 2014 one"
   ]
  },
  {
   "cell_type": "markdown",
   "id": "3ec2883f",
   "metadata": {},
   "source": [
    "| pre 2015 col name | e.g. format |\n",
    "|-----------------------|-------------------------------------------------|\n",
    "| Duration              | 397101                                          |\n",
    "| Start date            | 12/31/2014 23:58                                |\n",
    "| End date              | 1/1/2015 0:05                                   |\n",
    "| Start station number  | B32004                                          |\n",
    "| Start station name    | Aquarium Station - 200 Atlantic Ave.           |\n",
    "| End station number    | D32022                                          |\n",
    "| End station name      | TD Garden - Causeway at Portal Park #1         |\n",
    "| Bike number           | T01335                                          |\n",
    "| Member type           | Member                                          |\n",
    "| Zip code              | 2148.0                                          |\n",
    "| Gender                | Male                                            |\n",
    "\n",
    "\n",
    "\n",
    "note: so first need to turn **Customer -> casual** and **Subscriber -> member**"
   ]
  },
  {
   "cell_type": "code",
   "execution_count": 262,
   "id": "b903f1b2",
   "metadata": {},
   "outputs": [],
   "source": [
    "def load_and_clean_csv2(filepath):\n",
    "    \n",
    "    # read_csv\n",
    "    df = pd.read_csv(filepath)\n",
    "    \n",
    "    renames = {\n",
    "        \n",
    "        'Duration' : 'duration',\n",
    "        'Start date': 'started_at',\n",
    "        'End date': 'ended_at',\n",
    "        'Start station number': 'start_station_id',\n",
    "        'Start station name': 'start_station_name',\n",
    "        # 'start station latitude': 'start_lat',\n",
    "        # 'start station longitude': 'start_lng',\n",
    "        'End station number': 'end_station_id',\n",
    "        'End station name': 'end_station_name',\n",
    "        # 'end station latitude': 'end_lat',\n",
    "        # 'end station longitude': 'end_lng',\n",
    "        'Member type' : 'member_casual'\n",
    "    }\n",
    "    \n",
    "    df.rename(columns = renames, inplace=True)\n",
    "    \n",
    "        # columns we want!\n",
    "    keep_columns = ['duration', 'started_at', 'ended_at',\n",
    "                    'start_station_id', 'start_station_name',\n",
    "                    'end_station_id', 'end_station_name', 'member_casual']\n",
    "    \n",
    "    # will drop Bike number, Zip code, and Gender\n",
    "    # need to convert started_at and ended_at to datetime;\n",
    "    # convert Member type (Customer -> casual; Subscriber -> member)\n",
    "    \n",
    "    # other note to drop all 4 long/lat columns from big_df to save space / remove redundy info\n",
    "    \n",
    "    df = df[keep_columns]\n",
    "    return df"
   ]
  },
  {
   "cell_type": "code",
   "execution_count": 290,
   "id": "c60b0d50",
   "metadata": {},
   "outputs": [
    {
     "name": "stderr",
     "output_type": "stream",
     "text": [
      "/var/folders/2d/lf9lppb564bfjnr36gbpwvz00000gn/T/ipykernel_98569/1107282679.py:4: DtypeWarning:\n",
      "\n",
      "Columns (9) have mixed types. Specify dtype option on import or set low_memory=False.\n",
      "\n",
      "/var/folders/2d/lf9lppb564bfjnr36gbpwvz00000gn/T/ipykernel_98569/1107282679.py:4: DtypeWarning:\n",
      "\n",
      "Columns (9) have mixed types. Specify dtype option on import or set low_memory=False.\n",
      "\n",
      "/var/folders/2d/lf9lppb564bfjnr36gbpwvz00000gn/T/ipykernel_98569/1107282679.py:4: DtypeWarning:\n",
      "\n",
      "Columns (9) have mixed types. Specify dtype option on import or set low_memory=False.\n",
      "\n",
      "/var/folders/2d/lf9lppb564bfjnr36gbpwvz00000gn/T/ipykernel_98569/1107282679.py:4: DtypeWarning:\n",
      "\n",
      "Columns (9) have mixed types. Specify dtype option on import or set low_memory=False.\n",
      "\n"
     ]
    }
   ],
   "source": [
    "# get list of dataframes\n",
    "dfs_list2 = [load_and_clean_csv2(pathway) for pathway in pre_2015_paths]\n",
    "\n",
    "# TODO resolve warnings?"
   ]
  },
  {
   "cell_type": "code",
   "execution_count": 291,
   "id": "6b19f470",
   "metadata": {},
   "outputs": [],
   "source": [
    "# concat and get a list of that funciton applied to each pathways\n",
    "pre_2015_df = pd.concat(dfs_list2, ignore_index=True)"
   ]
  },
  {
   "cell_type": "code",
   "execution_count": 292,
   "id": "385414b3",
   "metadata": {},
   "outputs": [
    {
     "data": {
      "text/html": [
       "<div>\n",
       "<style scoped>\n",
       "    .dataframe tbody tr th:only-of-type {\n",
       "        vertical-align: middle;\n",
       "    }\n",
       "\n",
       "    .dataframe tbody tr th {\n",
       "        vertical-align: top;\n",
       "    }\n",
       "\n",
       "    .dataframe thead th {\n",
       "        text-align: right;\n",
       "    }\n",
       "</style>\n",
       "<table border=\"1\" class=\"dataframe\">\n",
       "  <thead>\n",
       "    <tr style=\"text-align: right;\">\n",
       "      <th></th>\n",
       "      <th>duration</th>\n",
       "      <th>started_at</th>\n",
       "      <th>ended_at</th>\n",
       "      <th>start_station_id</th>\n",
       "      <th>start_station_name</th>\n",
       "      <th>end_station_id</th>\n",
       "      <th>end_station_name</th>\n",
       "      <th>member_casual</th>\n",
       "    </tr>\n",
       "  </thead>\n",
       "  <tbody>\n",
       "    <tr>\n",
       "      <th>0</th>\n",
       "      <td>1712320</td>\n",
       "      <td>11/30/2011 23:58</td>\n",
       "      <td>12/1/2011 0:26</td>\n",
       "      <td>D32005</td>\n",
       "      <td>Boston Public Library - 700 Boylston St.</td>\n",
       "      <td>D32011</td>\n",
       "      <td>Stuart St. at Charles St.</td>\n",
       "      <td>Member</td>\n",
       "    </tr>\n",
       "  </tbody>\n",
       "</table>\n",
       "</div>"
      ],
      "text/plain": [
       "   duration        started_at        ended_at start_station_id  \\\n",
       "0   1712320  11/30/2011 23:58  12/1/2011 0:26           D32005   \n",
       "\n",
       "                         start_station_name end_station_id  \\\n",
       "0  Boston Public Library - 700 Boylston St.         D32011   \n",
       "\n",
       "            end_station_name member_casual  \n",
       "0  Stuart St. at Charles St.        Member  "
      ]
     },
     "execution_count": 292,
     "metadata": {},
     "output_type": "execute_result"
    }
   ],
   "source": [
    "pre_2015_df.head(1)"
   ]
  },
  {
   "cell_type": "code",
   "execution_count": 293,
   "id": "794ab520",
   "metadata": {},
   "outputs": [
    {
     "data": {
      "text/html": [
       "<div>\n",
       "<style scoped>\n",
       "    .dataframe tbody tr th:only-of-type {\n",
       "        vertical-align: middle;\n",
       "    }\n",
       "\n",
       "    .dataframe tbody tr th {\n",
       "        vertical-align: top;\n",
       "    }\n",
       "\n",
       "    .dataframe thead th {\n",
       "        text-align: right;\n",
       "    }\n",
       "</style>\n",
       "<table border=\"1\" class=\"dataframe\">\n",
       "  <thead>\n",
       "    <tr style=\"text-align: right;\">\n",
       "      <th></th>\n",
       "      <th>duration</th>\n",
       "      <th>started_at</th>\n",
       "      <th>ended_at</th>\n",
       "      <th>start_station_id</th>\n",
       "      <th>start_station_name</th>\n",
       "      <th>end_station_id</th>\n",
       "      <th>end_station_name</th>\n",
       "      <th>member_casual</th>\n",
       "    </tr>\n",
       "  </thead>\n",
       "  <tbody>\n",
       "    <tr>\n",
       "      <th>2762937</th>\n",
       "      <td>156284</td>\n",
       "      <td>7/1/2014 0:00</td>\n",
       "      <td>7/1/2014 0:03</td>\n",
       "      <td>M32002</td>\n",
       "      <td>One Kendall Square at Hampshire St / Portland St</td>\n",
       "      <td>M32037</td>\n",
       "      <td>Ames St at Main St</td>\n",
       "      <td>Member</td>\n",
       "    </tr>\n",
       "  </tbody>\n",
       "</table>\n",
       "</div>"
      ],
      "text/plain": [
       "         duration     started_at       ended_at start_station_id  \\\n",
       "2762937    156284  7/1/2014 0:00  7/1/2014 0:03           M32002   \n",
       "\n",
       "                                       start_station_name end_station_id  \\\n",
       "2762937  One Kendall Square at Hampshire St / Portland St         M32037   \n",
       "\n",
       "           end_station_name member_casual  \n",
       "2762937  Ames St at Main St        Member  "
      ]
     },
     "execution_count": 293,
     "metadata": {},
     "output_type": "execute_result"
    }
   ],
   "source": [
    "pre_2015_df.tail(1)"
   ]
  },
  {
   "cell_type": "markdown",
   "id": "ff86b30a",
   "metadata": {},
   "source": [
    "1. need to convert started_at and ended_at to datetime;\n",
    "2. convert duration from milliseconds to datetime\n",
    "3. convert Member type (Customer -> casual; Subscriber -> member)\n",
    "\n",
    "TODO other note to drop all 4 long/lat columns from big_df to save space / remove redundy info"
   ]
  },
  {
   "cell_type": "code",
   "execution_count": 294,
   "id": "09054962",
   "metadata": {},
   "outputs": [
    {
     "data": {
      "text/plain": [
       "duration                                               1712320\n",
       "started_at                                 2011-11-30 23:58:00\n",
       "ended_at                                   2011-12-01 00:26:00\n",
       "start_station_id                                        D32005\n",
       "start_station_name    Boston Public Library - 700 Boylston St.\n",
       "end_station_id                                          D32011\n",
       "end_station_name                     Stuart St. at Charles St.\n",
       "member_casual                                           Member\n",
       "Name: 0, dtype: object"
      ]
     },
     "execution_count": 294,
     "metadata": {},
     "output_type": "execute_result"
    }
   ],
   "source": [
    "# 1 - takes over 2 mins to run hm\n",
    "pre_2015_df['started_at'] = pd.to_datetime(pre_2015_df['started_at'])\n",
    "pre_2015_df['ended_at'] = pd.to_datetime(pre_2015_df['ended_at'])\n",
    "pre_2015_df.iloc[0]"
   ]
  },
  {
   "cell_type": "code",
   "execution_count": 295,
   "id": "07881d27",
   "metadata": {},
   "outputs": [
    {
     "data": {
      "text/html": [
       "<div>\n",
       "<style scoped>\n",
       "    .dataframe tbody tr th:only-of-type {\n",
       "        vertical-align: middle;\n",
       "    }\n",
       "\n",
       "    .dataframe tbody tr th {\n",
       "        vertical-align: top;\n",
       "    }\n",
       "\n",
       "    .dataframe thead th {\n",
       "        text-align: right;\n",
       "    }\n",
       "</style>\n",
       "<table border=\"1\" class=\"dataframe\">\n",
       "  <thead>\n",
       "    <tr style=\"text-align: right;\">\n",
       "      <th></th>\n",
       "      <th>duration</th>\n",
       "      <th>started_at</th>\n",
       "      <th>ended_at</th>\n",
       "      <th>start_station_id</th>\n",
       "      <th>start_station_name</th>\n",
       "      <th>end_station_id</th>\n",
       "      <th>end_station_name</th>\n",
       "      <th>member_casual</th>\n",
       "    </tr>\n",
       "  </thead>\n",
       "  <tbody>\n",
       "    <tr>\n",
       "      <th>0</th>\n",
       "      <td>0 days 00:28:32.320000</td>\n",
       "      <td>2011-11-30 23:58:00</td>\n",
       "      <td>2011-12-01 00:26:00</td>\n",
       "      <td>D32005</td>\n",
       "      <td>Boston Public Library - 700 Boylston St.</td>\n",
       "      <td>D32011</td>\n",
       "      <td>Stuart St. at Charles St.</td>\n",
       "      <td>Member</td>\n",
       "    </tr>\n",
       "    <tr>\n",
       "      <th>1</th>\n",
       "      <td>0 days 00:05:13.200000</td>\n",
       "      <td>2011-11-30 23:56:00</td>\n",
       "      <td>2011-12-01 00:01:00</td>\n",
       "      <td>C32008</td>\n",
       "      <td>Boylston at Fairfield</td>\n",
       "      <td>D32011</td>\n",
       "      <td>Stuart St. at Charles St.</td>\n",
       "      <td>Casual</td>\n",
       "    </tr>\n",
       "    <tr>\n",
       "      <th>2</th>\n",
       "      <td>0 days 00:18:31.430000</td>\n",
       "      <td>2011-11-30 23:18:00</td>\n",
       "      <td>2011-11-30 23:36:00</td>\n",
       "      <td>A32009</td>\n",
       "      <td>Tremont St / W Newton St</td>\n",
       "      <td>D32006</td>\n",
       "      <td>Lewis Wharf - Atlantic Ave.</td>\n",
       "      <td>Member</td>\n",
       "    </tr>\n",
       "    <tr>\n",
       "      <th>3</th>\n",
       "      <td>0 days 00:21:53.487000</td>\n",
       "      <td>2011-11-30 23:15:00</td>\n",
       "      <td>2011-11-30 23:37:00</td>\n",
       "      <td>A32001</td>\n",
       "      <td>Union Square - Brighton Ave. at Cambridge St.</td>\n",
       "      <td>D32005</td>\n",
       "      <td>Boston Public Library - 700 Boylston St.</td>\n",
       "      <td>Member</td>\n",
       "    </tr>\n",
       "    <tr>\n",
       "      <th>4</th>\n",
       "      <td>0 days 00:05:45.115000</td>\n",
       "      <td>2011-11-30 22:59:00</td>\n",
       "      <td>2011-11-30 23:05:00</td>\n",
       "      <td>B32008</td>\n",
       "      <td>Mayor Martin J. Walsh - 28 State St.</td>\n",
       "      <td>D32006</td>\n",
       "      <td>Lewis Wharf - Atlantic Ave.</td>\n",
       "      <td>Member</td>\n",
       "    </tr>\n",
       "  </tbody>\n",
       "</table>\n",
       "</div>"
      ],
      "text/plain": [
       "                duration          started_at            ended_at  \\\n",
       "0 0 days 00:28:32.320000 2011-11-30 23:58:00 2011-12-01 00:26:00   \n",
       "1 0 days 00:05:13.200000 2011-11-30 23:56:00 2011-12-01 00:01:00   \n",
       "2 0 days 00:18:31.430000 2011-11-30 23:18:00 2011-11-30 23:36:00   \n",
       "3 0 days 00:21:53.487000 2011-11-30 23:15:00 2011-11-30 23:37:00   \n",
       "4 0 days 00:05:45.115000 2011-11-30 22:59:00 2011-11-30 23:05:00   \n",
       "\n",
       "  start_station_id                             start_station_name  \\\n",
       "0           D32005       Boston Public Library - 700 Boylston St.   \n",
       "1           C32008                          Boylston at Fairfield   \n",
       "2           A32009                       Tremont St / W Newton St   \n",
       "3           A32001  Union Square - Brighton Ave. at Cambridge St.   \n",
       "4           B32008           Mayor Martin J. Walsh - 28 State St.   \n",
       "\n",
       "  end_station_id                          end_station_name member_casual  \n",
       "0         D32011                 Stuart St. at Charles St.        Member  \n",
       "1         D32011                 Stuart St. at Charles St.        Casual  \n",
       "2         D32006               Lewis Wharf - Atlantic Ave.        Member  \n",
       "3         D32005  Boston Public Library - 700 Boylston St.        Member  \n",
       "4         D32006               Lewis Wharf - Atlantic Ave.        Member  "
      ]
     },
     "execution_count": 295,
     "metadata": {},
     "output_type": "execute_result"
    }
   ],
   "source": [
    "# 2\n",
    "pre_2015_df['duration'] = pd.to_timedelta(pre_2015_df['duration'], unit = 'milliseconds')\n",
    "pre_2015_df.head()"
   ]
  },
  {
   "cell_type": "code",
   "execution_count": 296,
   "id": "0b64bfbf",
   "metadata": {},
   "outputs": [
    {
     "name": "stdout",
     "output_type": "stream",
     "text": [
      "<class 'pandas.core.frame.DataFrame'>\n",
      "RangeIndex: 2762938 entries, 0 to 2762937\n",
      "Data columns (total 8 columns):\n",
      " #   Column              Dtype          \n",
      "---  ------              -----          \n",
      " 0   duration            timedelta64[ns]\n",
      " 1   started_at          datetime64[ns] \n",
      " 2   ended_at            datetime64[ns] \n",
      " 3   start_station_id    object         \n",
      " 4   start_station_name  object         \n",
      " 5   end_station_id      object         \n",
      " 6   end_station_name    object         \n",
      " 7   member_casual       object         \n",
      "dtypes: datetime64[ns](2), object(5), timedelta64[ns](1)\n",
      "memory usage: 168.6+ MB\n"
     ]
    }
   ],
   "source": [
    "pre_2015_df.info()"
   ]
  },
  {
   "cell_type": "code",
   "execution_count": null,
   "id": "05161410",
   "metadata": {},
   "outputs": [],
   "source": [
    "# 3\n",
    "# TODO"
   ]
  },
  {
   "cell_type": "code",
   "execution_count": null,
   "id": "b5e58d49",
   "metadata": {},
   "outputs": [],
   "source": [
    "# now let's look again at the null value rows' durations to see if they are removable outliers/exceptions\n",
    "\n",
    "big_df.loc[null_indices]"
   ]
  },
  {
   "cell_type": "code",
   "execution_count": null,
   "id": "f0366d40",
   "metadata": {},
   "outputs": [],
   "source": [
    "# if we remove null values then what are the stats\n",
    "\n",
    "big_df.loc[null_indices]"
   ]
  },
  {
   "cell_type": "code",
   "execution_count": null,
   "id": "f8bdaa54",
   "metadata": {},
   "outputs": [],
   "source": [
    "big_df.head()"
   ]
  },
  {
   "cell_type": "code",
   "execution_count": null,
   "id": "d01517ed",
   "metadata": {},
   "outputs": [],
   "source": [
    "# takes like 22 sec to run\n",
    "\n",
    "# seem sus indeed! so we gonna drop those null rows\n",
    "\n",
    "clean_df = big_df[big_df.notna().all(axis=1)]"
   ]
  },
  {
   "cell_type": "code",
   "execution_count": null,
   "id": "fcfd5726",
   "metadata": {},
   "outputs": [],
   "source": [
    "clean_df.shape[0]"
   ]
  },
  {
   "cell_type": "markdown",
   "id": "a8d67b41",
   "metadata": {},
   "source": [
    "yas we got 27,035,163 clean rows now"
   ]
  },
  {
   "cell_type": "code",
   "execution_count": null,
   "id": "96dc71ee",
   "metadata": {},
   "outputs": [],
   "source": [
    "clean_df.info()"
   ]
  },
  {
   "cell_type": "code",
   "execution_count": null,
   "id": "726f555d",
   "metadata": {},
   "outputs": [],
   "source": [
    "clean_df.describe()"
   ]
  },
  {
   "cell_type": "markdown",
   "id": "df872a85",
   "metadata": {},
   "source": [
    "uhhhh min of like negative duration seems sussy... BRUH max duration is 492 days\n",
    "\n",
    "GOOTA INVESTIGATE"
   ]
  },
  {
   "cell_type": "code",
   "execution_count": null,
   "id": "5dc17d99",
   "metadata": {},
   "outputs": [],
   "source": [
    "from datetime import timedelta\n",
    "\n",
    "# investgiate durationnnnnn\n",
    "\n",
    "\n",
    "# to DOOOOOO\n",
    "greater_than_day_duration_indices = clean_df[clean_df['duration'] > timedelta(days=1)].index.tolist()\n",
    "\n",
    "clean_df[clean_df['duration'] > timedelta(days=1)]\n",
    "\n",
    "\n",
    "# gonna filter out lol"
   ]
  },
  {
   "cell_type": "code",
   "execution_count": null,
   "id": "6a01815e",
   "metadata": {},
   "outputs": [],
   "source": [
    "# also check durations < 0\n",
    "negative_duration_indices = clean_df[clean_df['duration'] < timedelta(days=0)].index.tolist()\n",
    "clean_df[clean_df['duration'] < timedelta(days=0)] \n",
    "\n",
    "# lol deleting these two bc no es possible"
   ]
  },
  {
   "cell_type": "code",
   "execution_count": null,
   "id": "37c4f7a2",
   "metadata": {},
   "outputs": [],
   "source": [
    "original_df.dtypes"
   ]
  },
  {
   "cell_type": "code",
   "execution_count": null,
   "id": "7549dbde",
   "metadata": {},
   "outputs": [],
   "source": [
    "original_df.loc[greater_than_day_duration_indices]\n",
    "\n",
    "# just checking no issues with like interpreting dates and that these are indeed > 24 hour durations - confirmed"
   ]
  },
  {
   "cell_type": "code",
   "execution_count": null,
   "id": "52030954",
   "metadata": {},
   "outputs": [],
   "source": [
    "original_df.loc[negative_duration_indices]\n",
    "# same but checking for negative duration --> confirmed!"
   ]
  },
  {
   "cell_type": "code",
   "execution_count": null,
   "id": "5bd6808b",
   "metadata": {},
   "outputs": [],
   "source": [
    "# now confirmed outliers, removing duration outliers (<0 or >24 hours)\n",
    "\n",
    "clean_df = clean_df[(clean_df['duration'] < timedelta(days=1)) & (clean_df['duration'] > timedelta(0))]"
   ]
  },
  {
   "cell_type": "code",
   "execution_count": null,
   "id": "4d095058",
   "metadata": {},
   "outputs": [],
   "source": [
    "clean_df.info()\n",
    "# yay final df!\n",
    "\n",
    "# however dtypes are wrong so try to fix that"
   ]
  },
  {
   "cell_type": "code",
   "execution_count": null,
   "id": "8fd3a948",
   "metadata": {},
   "outputs": [],
   "source": [
    "clean_df.describe()"
   ]
  },
  {
   "cell_type": "markdown",
   "id": "eee50194",
   "metadata": {},
   "source": [
    "looks all good! only thing to consider doing is deleting the max outliers (within 24 hous but like > x std devs above median or something)"
   ]
  },
  {
   "cell_type": "code",
   "execution_count": null,
   "id": "58dfc54f",
   "metadata": {},
   "outputs": [],
   "source": [
    "clean_df.isna().sum()"
   ]
  },
  {
   "cell_type": "markdown",
   "id": "89fc17b4",
   "metadata": {},
   "source": [
    "YAY no null values. and duration seems reasonable. let's double check unique values of each column now as final preprocessing"
   ]
  },
  {
   "cell_type": "code",
   "execution_count": null,
   "id": "a5df9296",
   "metadata": {},
   "outputs": [],
   "source": [
    "# check unique values for categorical cols like station names and ids and member_casual\n",
    "\n",
    "clean_df.columns"
   ]
  },
  {
   "cell_type": "markdown",
   "id": "767354d0",
   "metadata": {},
   "source": [
    "### plot distribution of member_casual tyepes and duration histogram\n",
    "so first need to turn **Customer -> casual** and **Subscriber -> member**"
   ]
  },
  {
   "cell_type": "code",
   "execution_count": null,
   "id": "48f1c5a7",
   "metadata": {},
   "outputs": [],
   "source": [
    "# need to do that first"
   ]
  },
  {
   "cell_type": "code",
   "execution_count": null,
   "id": "073ce8fc",
   "metadata": {},
   "outputs": [],
   "source": [
    "from matplotlib import pyplot as plt\n",
    "fig, axis = plt.subplots()\n",
    "import seaborn as sns\n",
    "sns.countplot(x='member_casual', data=clean_df, ax=axis) # TODO make this a pie chart\n",
    "\n",
    "# this takes forever, is ther a faster way?"
   ]
  },
  {
   "cell_type": "markdown",
   "id": "32c01603",
   "metadata": {},
   "source": [
    "we see that majority of rides are by members which makes sense. let's see the trend over time"
   ]
  },
  {
   "cell_type": "code",
   "execution_count": null,
   "id": "e69c73e7",
   "metadata": {},
   "outputs": [],
   "source": [
    "# TODO: see member vs. casual distribution each year"
   ]
  },
  {
   "cell_type": "markdown",
   "id": "de976ec1",
   "metadata": {},
   "source": [
    "### then plot most popular departure and arrival stations\n"
   ]
  },
  {
   "cell_type": "code",
   "execution_count": null,
   "id": "c6784349",
   "metadata": {},
   "outputs": [],
   "source": [
    "hi"
   ]
  },
  {
   "cell_type": "code",
   "execution_count": null,
   "id": "6f8ba4eb",
   "metadata": {},
   "outputs": [],
   "source": [
    "# need to figure out the station name situation lol\n",
    "# \n",
    "start_names = clean_df[\"start_station_name\"].unique().sort()\n",
    "end_names = clean_df[\"end_station_name\"].unique().sort()\n",
    "start_id = clean_df[\"start_station_id\"].unique().sort() # errorrrrrrrrrrrrrr \n",
    "end_id = clean_df[\"end_station_id\"].unique().sort()"
   ]
  },
  {
   "cell_type": "markdown",
   "id": "f29ceb6d",
   "metadata": {},
   "source": [
    "### plot distributions of stations (start, end) popularity......\n",
    "pending above code cell"
   ]
  },
  {
   "cell_type": "markdown",
   "id": "944e4260",
   "metadata": {},
   "source": [
    "# cast all coordinates to floats? can floats be negative (yes)\n",
    "\n",
    "then map all the stations onto a map of boston... "
   ]
  },
  {
   "cell_type": "code",
   "execution_count": null,
   "id": "72f64cce",
   "metadata": {},
   "outputs": [],
   "source": [
    "# converting coordinates to floats\n"
   ]
  },
  {
   "cell_type": "code",
   "execution_count": null,
   "id": "e6342fd1",
   "metadata": {},
   "outputs": [],
   "source": [
    "start_names"
   ]
  },
  {
   "cell_type": "code",
   "execution_count": null,
   "id": "86644ce9",
   "metadata": {},
   "outputs": [],
   "source": [
    "from collections import Counter\n",
    "# start_names == end_names # lol compare them to see if they are identical or nah\n",
    "# start_id == end_id\n",
    "\n",
    "print(Counter(start_names) == Counter(end_names))\n",
    "print(Counter(start_id) == Counter(end_id))"
   ]
  },
  {
   "cell_type": "markdown",
   "id": "b8d1d34b",
   "metadata": {},
   "source": []
  },
  {
   "cell_type": "code",
   "execution_count": null,
   "id": "5b802651",
   "metadata": {},
   "outputs": [],
   "source": [
    "# rename columns\n",
    "# standardize formatting e.g. starttime"
   ]
  },
  {
   "cell_type": "code",
   "execution_count": null,
   "id": "02cd2f36",
   "metadata": {},
   "outputs": [],
   "source": [
    "# eda techniques"
   ]
  },
  {
   "cell_type": "markdown",
   "id": "56040b15",
   "metadata": {},
   "source": [
    "to do ideas for later\n",
    "\n",
    "- turn things into functions, like datetime transforming and getting duration etc."
   ]
  },
  {
   "cell_type": "markdown",
   "id": "b292a84d",
   "metadata": {},
   "source": [
    "# EDA"
   ]
  },
  {
   "cell_type": "markdown",
   "id": "171c405c",
   "metadata": {},
   "source": []
  }
 ],
 "metadata": {
  "kernelspec": {
   "display_name": "base",
   "language": "python",
   "name": "python3"
  },
  "language_info": {
   "codemirror_mode": {
    "name": "ipython",
    "version": 3
   },
   "file_extension": ".py",
   "mimetype": "text/x-python",
   "name": "python",
   "nbconvert_exporter": "python",
   "pygments_lexer": "ipython3",
   "version": "3.10.6"
  }
 },
 "nbformat": 4,
 "nbformat_minor": 5
}
